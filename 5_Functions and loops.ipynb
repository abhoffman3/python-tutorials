{
 "cells": [
  {
   "cell_type": "markdown",
   "id": "301ff86f",
   "metadata": {},
   "source": [
    "# Tutorial 5: Functions and Loops"
   ]
  },
  {
   "cell_type": "markdown",
   "id": "481b3dda",
   "metadata": {},
   "source": [
    "Often in coding, we have repetitive tasks to do. We could do the tasks by hand each time, but what if we had to do the task for 100 samples? Or 1000 samples? It would be a lot of work to do the task by hand each time. There is also a lot more room for error if we repeat the task by hand 100 or 1000 times.  \n",
    "Instead of doing a task by hand repeatedly, we can use some Python tools to streamline our tasks. We will learn about two of these tools in this module: functions and for loops.   \n",
    "\n",
    "By the end of this tutorial, you will be able to:\n",
    "* recognize the parts of a function and a loop\n",
    "* create a function that will streamline a repetitive task\n",
    "* process data efficiently in a loop\n",
    "* identify which parts of code goes in a loop and which parts stay outside the loop"
   ]
  },
  {
   "cell_type": "markdown",
   "id": "0d0a897a",
   "metadata": {},
   "source": [
    "## What is a function?\n",
    "\n",
    "A Python function is a group of code that explains how to complete a task for a given set of inputs. </font> Just like in math, we can think of a function in Python as code where you enter an input and it returns an output. f(x) = y, where x is the input, f( ) is the function, and y is the output. </font>\n",
    "\n",
    "In Python, we must name the function, list the possible inputs, describe how we would like the inputs to be modified, then list the outputs. To do this, we must *define* a function. </font> For example, let's look at the function below. At first glance, what do you think this function does?"
   ]
  },
  {
   "cell_type": "code",
   "execution_count": null,
   "id": "178321fb",
   "metadata": {},
   "outputs": [],
   "source": [
    "def square_function(input):\n",
    "    output = input ** 2\n",
    "    return output"
   ]
  },
  {
   "cell_type": "markdown",
   "id": "8a8c4e9a",
   "metadata": {},
   "source": [
    "This is a simple function that takes the square of the input and then gives that new value as the output. But let's break this function down into its components. </font>"
   ]
  },
  {
   "cell_type": "code",
   "execution_count": null,
   "id": "bc928267",
   "metadata": {},
   "outputs": [],
   "source": [
    "def square_function(input): # 1 - define the function\n",
    "    output = input ** 2     # 2 - function body\n",
    "    return output           # 3 - return statement"
   ]
  },
  {
   "cell_type": "markdown",
   "id": "78089e86",
   "metadata": {},
   "source": [
    "Line 1: This is where we define the function and what our input will be. \n",
    "- **def:** the keyword that means defining a function.\n",
    "- **function name:** it is helpful to name the function something that will indicate its purpose.\n",
    "- **parameter:** this is our input, it is what we use to pass values to the function. We can name it whatever we want and can have multiple parameters seperated by commas.\n",
    "- **colon:** this is part of the function syntax, don't forget it!\n",
    "\n",
    "Line 2: This is the **function body**, where we enter one or more lines of code that perform some task. They must be indented. \n",
    "- in our example, this is where we tell the function to make the ouput the square of the input.\n",
    "\n",
    "Line 3: This is where we tell the function to end, and what we want the output to be.\n",
    "- **return statement:** returns a value from the function."
   ]
  },
  {
   "cell_type": "markdown",
   "id": "a381f920",
   "metadata": {},
   "source": [
    "Let's use it. To use a function, you *call* it by typing the name and an input in the partentheses. "
   ]
  },
  {
   "cell_type": "code",
   "execution_count": null,
   "id": "b3b84b8a",
   "metadata": {},
   "outputs": [],
   "source": [
    "input = 10             #replace input with different numbers to test this out\n",
    "square_function(input)"
   ]
  },
  {
   "cell_type": "code",
   "execution_count": null,
   "id": "87f18c04",
   "metadata": {
    "scrolled": true
   },
   "outputs": [],
   "source": [
    "# What happens when you run this cell?\n",
    "square_function(\"two\")"
   ]
  },
  {
   "cell_type": "markdown",
   "id": "033bf189",
   "metadata": {},
   "source": [
    "**Knowledge Check:** The previous line of code gave an error. Why did that happen? How can you fix the problem? </font> "
   ]
  },
  {
   "cell_type": "markdown",
   "id": "74e06771",
   "metadata": {},
   "source": [
    "### Why do we use functions?"
   ]
  },
  {
   "cell_type": "markdown",
   "id": "e30498cb",
   "metadata": {},
   "source": [
    "By now you can probably see that functions make our lives easier! \n",
    "We don't have to type the same code over and over to perform a task. Instead, we can just call the function each time we want to perform that task."
   ]
  },
  {
   "cell_type": "markdown",
   "id": "fbb85164",
   "metadata": {},
   "source": [
    "**Knowledge Check:** Think of a situation in a dataset where you might want to use a function. Try outlining the function in a code cell below. It doesn't need to work, just define the function, put some notes in the function body, and include a return statement."
   ]
  },
  {
   "cell_type": "code",
   "execution_count": null,
   "id": "04283cc7",
   "metadata": {},
   "outputs": [],
   "source": []
  },
  {
   "cell_type": "markdown",
   "id": "5ce6e8f6",
   "metadata": {},
   "source": [
    "## Why do we use loops?"
   ]
  },
  {
   "cell_type": "markdown",
   "id": "5ab41ef0",
   "metadata": {},
   "source": [
    "Often when we use functions, we have a lot of data that we want to perform the same task on. For example, say we have a list of 5 numbers and we want to find the square of each:"
   ]
  },
  {
   "cell_type": "code",
   "execution_count": null,
   "id": "fd445223",
   "metadata": {},
   "outputs": [],
   "source": [
    "number_list = [1,2,7,9,12]"
   ]
  },
  {
   "cell_type": "markdown",
   "id": "b5c66131",
   "metadata": {},
   "source": [
    "We could call the square_function on each number in the list individually. However, if we had a really large dataset, this would take a really long time."
   ]
  },
  {
   "cell_type": "code",
   "execution_count": null,
   "id": "7763e2a7",
   "metadata": {},
   "outputs": [],
   "source": [
    "print(square_function(1))\n",
    "print(square_function(2))\n",
    "print(square_function(7))\n",
    "# and so on....."
   ]
  },
  {
   "cell_type": "markdown",
   "id": "4235935e",
   "metadata": {},
   "source": [
    "Instead of writing out the function each time, we can use a loop. A *for loop* allows us to *iterate* through the list, performing the same task for each value in the list. "
   ]
  },
  {
   "cell_type": "code",
   "execution_count": null,
   "id": "fc46c244",
   "metadata": {},
   "outputs": [],
   "source": [
    "for number in number_list:         # go through each item in list\n",
    "    print(square_function(number)) # print the square of each item using our square function"
   ]
  },
  {
   "cell_type": "markdown",
   "id": "6c8ddcce",
   "metadata": {},
   "source": [
    "For loops are really flexible tools because you can write anything you want in the loop. And you can iterate through any sequence you want. For example, instead of saying number_list, you could tell Python to iterate through a range of numbers instead. </font>"
   ]
  },
  {
   "cell_type": "code",
   "execution_count": null,
   "id": "3c5c2690",
   "metadata": {},
   "outputs": [],
   "source": [
    "for x in range(5):                 # go through each instance in the sequence\n",
    "    number = number_list[x]        # we are calling on each item in the list using the index\n",
    "    print(square_function(number)) # print the square of each item using our square function"
   ]
  },
  {
   "cell_type": "markdown",
   "id": "75a2bb5c",
   "metadata": {},
   "source": [
    "Let's break down the above loop a little more. There are 5 main parts to a for loop in Python.\n",
    "1. the \"for\" keyword. If you don't use for at the beginning of your code, then Python won't know to loop through the elements in the range.\n",
    "2. a variable. In the loop above, the variable is x. This variable is what is iterated in the loop.\n",
    "3. the \"in\" keyword. The in keyword tells Python to generate the variables (in this case, x) from the range provided. \n",
    "4. the range. The range is a list or sequence of all the possible versions of the variable you want. In the loop above, the range is range(5)=[0,1,2,3,4]. This means we want x to equal 0, 1, 2, 3, and 4. \n",
    "5. The repeated code body. This is everything after the colon. It is all the actions performed on the variable x in each iteration.\n",
    "\n",
    "For the above for loop, the first line \"for x in range(5)\" means \"repeat the following code body for x=0, x=1, x=2, x=3, and x=4\". Then the next two lines are the actions performed on each of those values of x. Specifically, we use x as the index of the number_list. We then use the selected value from number_list and square it. Then, we print out the final value. "
   ]
  },
  {
   "cell_type": "markdown",
   "id": "8e3cd6de",
   "metadata": {},
   "source": [
    "The examples we've seen so far of for loops have been pretty straightforward. However, loops can be used in many complex and unique ways that actually end up simplifying our coding. For example, instead of printing out each item in the for loop above, perhaps we want to make a new list of squared values. This means we could have a new list of values and we wouldn't have to copy all the printed values down. To do this, we could tell the for loop to add each item to a new list using *append*. "
   ]
  },
  {
   "cell_type": "code",
   "execution_count": null,
   "id": "d869b161",
   "metadata": {},
   "outputs": [],
   "source": [
    "squared_list = []                                # create an empty list\n",
    "for number in number_list:                       # go through each item in the sequence\n",
    "    squared_list.append(square_function(number)) # square each item, append to the new list\n",
    "    print(squared_list)                          # see our list of squared numbers"
   ]
  },
  {
   "cell_type": "markdown",
   "id": "e576f974",
   "metadata": {},
   "source": [
    "Uh oh! What is happening here? Why do we have multiple lists?\n",
    "\n",
    "Currently, the print statement is inside the for loop. It is part of the repeated code body. Our code is telling the loop to print the squared list for every iteration. So we are seeing a new list printed everytime we square the next number.\n",
    "\n",
    "To fix this, we want print statement *outside* of the for loop. To do this, we unindent it:"
   ]
  },
  {
   "cell_type": "code",
   "execution_count": null,
   "id": "6d91b175",
   "metadata": {
    "scrolled": true
   },
   "outputs": [],
   "source": [
    "squared_list = []                                # create an empty list\n",
    "for number in number_list:                       # go through each item in list\n",
    "    squared_list.append(square_function(number)) # square each item, append to the new list\n",
    "\n",
    "print(squared_list)                              # see our list of squared numbers"
   ]
  },
  {
   "cell_type": "markdown",
   "id": "fbc648fa",
   "metadata": {},
   "source": [
    "**Indentations are key for for loops!** If you don't want a step repeated for every iteration, you must make sure it is outside the for loop."
   ]
  },
  {
   "cell_type": "markdown",
   "id": "e4afeb51",
   "metadata": {},
   "source": [
    "**Note:** We can also use for loops within functions or functions within loops. We will see an example of this later."
   ]
  },
  {
   "cell_type": "markdown",
   "id": "23ae3359",
   "metadata": {},
   "source": [
    "## Building functions and loops"
   ]
  },
  {
   "cell_type": "markdown",
   "id": "1e016996",
   "metadata": {},
   "source": [
    "Let's try a simple example of building a function and using a loop.\n",
    "\n",
    "Create a function to find the area of a circle given the radius. Then test the function on a range of possible radii from 1 to 10.\n",
    "\n",
    "Here are some guiding questions:"
   ]
  },
  {
   "cell_type": "code",
   "execution_count": null,
   "id": "4a661a54",
   "metadata": {},
   "outputs": [],
   "source": [
    "def                         # What should you name this function? What will be the input?\n",
    "                            # What will be the function body? \n",
    "    \n",
    "    \n",
    "    return                  # What will be the output?                         "
   ]
  },
  {
   "cell_type": "code",
   "execution_count": null,
   "id": "151888e9",
   "metadata": {},
   "outputs": [],
   "source": [
    "# To practice, try creating an equation for the area of the circle and plugging in numbers"
   ]
  },
  {
   "cell_type": "code",
   "execution_count": null,
   "id": "ada868c0",
   "metadata": {},
   "outputs": [],
   "source": []
  },
  {
   "cell_type": "markdown",
   "id": "2c9db0c6",
   "metadata": {},
   "source": [
    "Now, test this function on a range of radii from 1-10."
   ]
  },
  {
   "cell_type": "code",
   "execution_count": null,
   "id": "6bf72d98",
   "metadata": {},
   "outputs": [],
   "source": [
    "# Remember, we can use a for loop to iterate over a range\n",
    "for "
   ]
  },
  {
   "cell_type": "markdown",
   "id": "fa3e1dcc",
   "metadata": {},
   "source": [
    "If you are having trouble, or want to check your work, the answer to this example is at the bottom of the tutorial. Remember, your function doesn't have to be formatted the same as the answer, as long is it gets the correct values."
   ]
  },
  {
   "cell_type": "markdown",
   "id": "6e30f128",
   "metadata": {},
   "source": [
    "## Putting it all together"
   ]
  },
  {
   "cell_type": "markdown",
   "id": "94d6701b",
   "metadata": {},
   "source": [
    "Here, we'll go through an example situation where using functions and for loops is really helpful for saving time and preventing boredom! </font>"
   ]
  },
  {
   "cell_type": "markdown",
   "id": "eef51374",
   "metadata": {},
   "source": [
    "In the atmospheric sciences, we often use data from really large datasets of monitoring data, satellite data, model data, etc. This data is often publically available online, and can be downloaded for free. However, it is not always stored in a way that makes it easy to download the exact time or place of interest to you. For example, air quality data from the EPA can be selected based on location (state and county), species of interest, and time period. You could click through the website and download each individual file you want, or you could create a function to do the work for you, and then use a for loop to iterate over all the different time, species, and location combinations you want. </font>\n",
    "\n",
    "In order to access the EPA's hourly data from The Air Quality System (AQS), we need to create a url using the correct parameters. **We want to create a function that can make building each url easier.**\n",
    "\n",
    "First, sign up for the AQS here: https://aqs.epa.gov/aqsweb/documents/data_api.html. You will need a user key for each url, and can't access data until you have that code. \n",
    "\n",
    "Next, scroll down the page to the section that says \"Sample Data\". There are many different levels of data you can access. We want to access sample data by county. To do so, we will need to make a url that has the required variables (email, key, param, bdate, edate, state, county) and format given. See image below.\n",
    "\n",
    "You can find the codes for the variables here: https://www.epa.gov/aqs/aqs-code-list"
   ]
  },
  {
   "attachments": {
    "Screen%20Shot%202021-10-30%20at%202.22.53%20PM.png": {
     "image/png": "[encoded data removed]"
    }
   },
   "cell_type": "markdown",
   "id": "49944bb6",
   "metadata": {},
   "source": [
    "![Screen%20Shot%202021-10-30%20at%202.22.53%20PM.png](attachment:Screen%20Shot%202021-10-30%20at%202.22.53%20PM.png)"
   ]
  },
  {
   "cell_type": "markdown",
   "id": "ac5ada9e",
   "metadata": {},
   "source": [
    "### Part 1: building the function"
   ]
  },
  {
   "cell_type": "markdown",
   "id": "f6464642",
   "metadata": {},
   "source": [
    "We know that each url will start with the same beginning because your email and key won't change. Let's call this the base. **Make sure to enter your own email and key into the base.**"
   ]
  },
  {
   "cell_type": "code",
   "execution_count": null,
   "id": "77f87db4",
   "metadata": {},
   "outputs": [],
   "source": [
    "base = \"https://aqs.epa.gov/data/api/sampleData/byCounty?email=youremail@wisc.edu&key=yourkey\""
   ]
  },
  {
   "cell_type": "markdown",
   "id": "e7c41770",
   "metadata": {},
   "source": [
    "Next, what are the variables that we still need for the url? \n",
    "- param\n",
    "- bdate\n",
    "- edate\n",
    "- state\n",
    "- county\n",
    "\n",
    "These are the paramaters(inputs) that we will want to pass new values into depending on what data we want. These will go in the function's parentheses. "
   ]
  },
  {
   "cell_type": "markdown",
   "id": "d2c03ed6",
   "metadata": {},
   "source": [
    "As you can see in the url example in the image above, each variable has the format \"&variable=\" before the value. Therefore, we will need to add these fillers as strings for each variable. So, our url will be:\n",
    "\n",
    "url = base + \"&param=\" + param + \"&bdate=\" + bdate + \"&edate=\" + edate + \"&state=\" + state + \"&county=\" + county"
   ]
  },
  {
   "cell_type": "markdown",
   "id": "0415ae2f",
   "metadata": {},
   "source": [
    "Putting it together:"
   ]
  },
  {
   "cell_type": "code",
   "execution_count": null,
   "id": "83e60869",
   "metadata": {},
   "outputs": [],
   "source": [
    "def make_url(param, bdate, edate, state, county): # be sure to include all necessary inputs!\n",
    "    base = \"https://aqs.epa.gov/data/api/sampleData/byCounty?email=youremail@wisc.edu&key=yourkey\" \n",
    "    # make sure to edit the base with your email and key\n",
    "    var = \"&param=\" + param + \"&bdate=\" + bdate + \"&edate=\" + edate + \"&state=\" + state + \"&county=\" + county\n",
    "    url = base + var\n",
    "    return url"
   ]
  },
  {
   "cell_type": "markdown",
   "id": "0cdb4e93",
   "metadata": {},
   "source": [
    "### Part 2: calling the function"
   ]
  },
  {
   "cell_type": "markdown",
   "id": "e5768dc5",
   "metadata": {},
   "source": [
    "For this example, we want to access ozone data from Milwaukee, WI, for the month of July in 2018. \n",
    "\n",
    "Using the code list, we find that:\n",
    "- code for param ozone = 44201\n",
    "- code for state = 55\n",
    "- code for county = 079\n",
    "\n",
    "We know:\n",
    "- bdate = 20180701\n",
    "- edate = 20180731"
   ]
  },
  {
   "cell_type": "code",
   "execution_count": null,
   "id": "7b88f20b",
   "metadata": {},
   "outputs": [],
   "source": [
    "# create the inputs for your function\n",
    "param = \"44201\"\n",
    "bdate = \"20130701\"\n",
    "edate = \"20130731\"\n",
    "state = \"55\"\n",
    "county = \"079\"\n",
    "\n",
    "url = make_url(param, bdate, edate, state, county) # plug values in\n",
    "print(url) # see url"
   ]
  },
  {
   "cell_type": "markdown",
   "id": "a357a822",
   "metadata": {},
   "source": [
    "Copy and paste the url into your browser to see the data. What do you notice about the data? Do you recognize the format that it comes in?\n",
    "\n",
    "The data comes in a **JSON format**, which you may have never seen before. JSON is a way of storing data that is often used in transferring data from a web server to a local computer. It is not as easy to visualize and work with as other file types, so **we're going to convert it to a Pandas DataFrame.**"
   ]
  },
  {
   "cell_type": "markdown",
   "id": "0e5ecffc",
   "metadata": {},
   "source": [
    "Let's import the packages we will need:"
   ]
  },
  {
   "cell_type": "code",
   "execution_count": null,
   "id": "ee3fbfac",
   "metadata": {},
   "outputs": [],
   "source": [
    "import requests\n",
    "import json\n",
    "import pandas as pd"
   ]
  },
  {
   "cell_type": "markdown",
   "id": "031646d7",
   "metadata": {},
   "source": [
    "First, let's get all of the contents from the web page."
   ]
  },
  {
   "cell_type": "code",
   "execution_count": null,
   "id": "6f8e1836",
   "metadata": {},
   "outputs": [],
   "source": [
    "# use requests.get function to retreive contents from a given url\n",
    "r = requests.get(url)"
   ]
  },
  {
   "cell_type": "code",
   "execution_count": null,
   "id": "72f18118",
   "metadata": {},
   "outputs": [],
   "source": [
    "# use json.loads function to tell the code that the content we want is in json format\n",
    "contents = json.loads(r.text)"
   ]
  },
  {
   "cell_type": "code",
   "execution_count": null,
   "id": "aec1510f",
   "metadata": {
    "scrolled": true
   },
   "outputs": [],
   "source": [
    " # see the contents of the web page\n",
    "contents"
   ]
  },
  {
   "cell_type": "markdown",
   "id": "ecb71d83",
   "metadata": {},
   "source": [
    "Look at the first few lines of the above data. Notice that when loading in the contents of the web page, we also loaded the \"header\", which contains information about our request time, url, number of rows, etc. **This information is not a part of our data, so we want to exclude it from our dataframe!**\n",
    "\n",
    "To do so, let's look at where our data actually starts. After the header, we see 'Data' followed by a colon and square bracket. That's probably a good sign that the data starts there! To access this, we can \"index by key\", where \"Data\" is our key."
   ]
  },
  {
   "cell_type": "code",
   "execution_count": null,
   "id": "2d773e4f",
   "metadata": {},
   "outputs": [],
   "source": [
    "# index by key to only get the contents in \"Data\" section\n",
    "data = contents[\"Data\"]\n",
    "data"
   ]
  },
  {
   "cell_type": "markdown",
   "id": "6ddb7770",
   "metadata": {},
   "source": [
    "Great! Now we don't have that pesky header and can put our data into a Pandas DataFrame. Panda's will do the work of formatting this nicely for us."
   ]
  },
  {
   "cell_type": "code",
   "execution_count": null,
   "id": "c7717ddc",
   "metadata": {},
   "outputs": [],
   "source": [
    "data_df = pd.DataFrame(data)   # put data into DataFrame\n",
    "data_df"
   ]
  },
  {
   "cell_type": "markdown",
   "id": "d959f7f2",
   "metadata": {},
   "source": [
    "We have now successfully created urls to retrieve AQS data, downloaded the data, and converted it to a pandas DataFrame! From pandas, we can manipulate the data or turn it into a csv or excel file. "
   ]
  },
  {
   "cell_type": "markdown",
   "id": "f064b5b3",
   "metadata": {},
   "source": [
    "If we had many urls for which we wanted to make DataFrames, it would be frustrating to repeat these steps over and over. We can put these steps into a function to make our lives easier:"
   ]
  },
  {
   "cell_type": "code",
   "execution_count": null,
   "id": "45ffae90",
   "metadata": {},
   "outputs": [],
   "source": [
    "def make_df(url):\n",
    "    r = requests.get(url)\n",
    "    contents = json.loads(r.text) # gives you a Python dictionary\n",
    "    data = contents[\"Data\"]\n",
    "    data_df = pd.DataFrame(data)\n",
    "    return data_df"
   ]
  },
  {
   "cell_type": "code",
   "execution_count": null,
   "id": "56efcbca",
   "metadata": {},
   "outputs": [],
   "source": [
    "df = make_df(url)\n",
    "df"
   ]
  },
  {
   "cell_type": "markdown",
   "id": "313af5bf",
   "metadata": {},
   "source": [
    "Now, we have a function that makes the url and a function that turns the url into a DataFrame. **Using functions, we took a several step process and turned it into a two step process!**"
   ]
  },
  {
   "cell_type": "markdown",
   "id": "878167b4",
   "metadata": {},
   "source": [
    "Hopefully, you can now see how useful functions and loops are in Python. In fact, functions and loops are so helpful, they are considered part of good coding practice. If you are ever coding something and realize you are using copy and paste to do the same thing over and over, then you should make a function instead! Using a function also keeps your code shorter, so it is more manageable to follow. "
   ]
  },
  {
   "cell_type": "markdown",
   "id": "f30498ee",
   "metadata": {},
   "source": [
    "Functions and loops are very important to coding, so let's get some practice.  \n",
    "\n",
    "# Exercises"
   ]
  },
  {
   "cell_type": "markdown",
   "id": "3a4c72ef",
   "metadata": {},
   "source": [
    "### 1: A brick house"
   ]
  },
  {
   "cell_type": "markdown",
   "id": "58ee744e",
   "metadata": {},
   "source": [
    "**a)** Imagine you are building a house made of bricks. Each brick weighs about 5 pounds. You want to know how much all the bricks needed to build your house weigh. Write a function to determine the total weight of your house based on how many bricks are used to build it."
   ]
  },
  {
   "cell_type": "code",
   "execution_count": null,
   "id": "ab501b89",
   "metadata": {},
   "outputs": [],
   "source": []
  },
  {
   "cell_type": "markdown",
   "id": "bc11b9b6",
   "metadata": {},
   "source": [
    "**b)** Let's say each brick used to build your house is 8 inches by 2.5 inches by 4 inches (8 long x 2.5 tall x 4 wide). Write a function to calculate how many bricks are needed to fill a certain volume."
   ]
  },
  {
   "cell_type": "code",
   "execution_count": null,
   "id": "3fa8eb75",
   "metadata": {},
   "outputs": [],
   "source": []
  },
  {
   "cell_type": "markdown",
   "id": "91b4453e",
   "metadata": {},
   "source": [
    "**c)** Let's say your house is a cube where each wall is 20 ft in length and 20 ft in height. Each wall is 4 inches wide (the width of one brick). Calculate the volume of the walls of your house and then use your functions to determine the total weight of all the bricks you needed to build your brick house."
   ]
  },
  {
   "cell_type": "code",
   "execution_count": null,
   "id": "6eb65fce",
   "metadata": {},
   "outputs": [],
   "source": []
  },
  {
   "cell_type": "markdown",
   "id": "355a6e21",
   "metadata": {},
   "source": [
    "**d)** Turns out, a 400 square foot house is too small! Let's test out how much a house weighs in a bunch of differently sized houses. Write a function to determine the volume of a house's walls based on the length, height, and width of the walls. Then, using a loop, calculate the weight of square houses with a length/height of walls from 20 ft to 100 ft, testing each 10 ft addition (keep the width of the walls at 4 in)."
   ]
  },
  {
   "cell_type": "code",
   "execution_count": null,
   "id": "f84865e0",
   "metadata": {},
   "outputs": [],
   "source": []
  },
  {
   "cell_type": "markdown",
   "id": "a0409181",
   "metadata": {},
   "source": [
    "### 2. Plotting in a loop"
   ]
  },
  {
   "cell_type": "markdown",
   "id": "012d685c",
   "metadata": {},
   "source": [
    "One really useful aspect to loops is the ability to plot multiple series of data on one figure, or in multiple subplots, with only a few lines of code. We haven't gotten into making subplots yet, so this question will focus on use a for loop to plot multiple series of data in one figure. "
   ]
  },
  {
   "cell_type": "markdown",
   "id": "9a964d2a",
   "metadata": {},
   "source": [
    "Here, we'll use the functions we made earlier to download some data and plot it. Let's look at ozone in Wisconsin."
   ]
  },
  {
   "cell_type": "code",
   "execution_count": null,
   "id": "9cf33632",
   "metadata": {},
   "outputs": [],
   "source": [
    "# remember to import all the packages you'll need\n",
    "import matplotlib.pyplot as plt\n",
    "import pandas as pd"
   ]
  },
  {
   "cell_type": "code",
   "execution_count": null,
   "id": "5c4462c8",
   "metadata": {},
   "outputs": [],
   "source": [
    "# the function to make a url to download the data\n",
    "# make sure to edit the base with your email and key!\n",
    "def make_url(param, bdate, edate, state, county):\n",
    "    base = \"https://aqs.epa.gov/data/api/sampleData/byCounty?email=youremail@wisc.edu&key=yourkey\" \n",
    "    var = \"&param=\" + param + \"&bdate=\" + bdate + \"&edate=\" + edate + \"&state=\" + state + \"&county=\" + county\n",
    "    url = base + var\n",
    "    return url"
   ]
  },
  {
   "cell_type": "code",
   "execution_count": null,
   "id": "e1ad931e",
   "metadata": {},
   "outputs": [],
   "source": [
    "# the function to turn the url into a Dataframe\n",
    "def make_df(url):\n",
    "    r = requests.get(url)\n",
    "    contents = json.loads(r.text)\n",
    "    data = contents[\"Data\"]\n",
    "    data_df = pd.DataFrame(data)\n",
    "    return data_df"
   ]
  },
  {
   "cell_type": "markdown",
   "id": "e7bd49f6",
   "metadata": {},
   "source": [
    "**a)** Select a time range to look at. It can be anything. Then run the two functions for the time range. Finally, make a line plot of ozone over the time period of interest."
   ]
  },
  {
   "cell_type": "code",
   "execution_count": null,
   "id": "06ef9e77",
   "metadata": {},
   "outputs": [],
   "source": [
    "param = '44201'\n",
    "bdate = ''# start time here\n",
    "edate = ''# end time here\n",
    "state = '55'\n",
    "county = '025' # this is the county code for Dane County"
   ]
  },
  {
   "cell_type": "code",
   "execution_count": null,
   "id": "0258243b",
   "metadata": {},
   "outputs": [],
   "source": [
    "url = make_url(param, bdate, edate, state, county)\n",
    "df = make_df(url)"
   ]
  },
  {
   "cell_type": "code",
   "execution_count": null,
   "id": "9d20d0c6",
   "metadata": {},
   "outputs": [],
   "source": [
    "# look at the data and the column labels. Which column do you want to use for y-data?\n",
    "print(df.columns)\n",
    "df"
   ]
  },
  {
   "cell_type": "code",
   "execution_count": null,
   "id": "fbb67590",
   "metadata": {},
   "outputs": [],
   "source": [
    "# using the appropriate y data from your DataFrame, make a line plot displaying ozone versus time.\n",
    "ydata = \n",
    "\n",
    "fig = plt.figure(figsize=(10,8)) # you can change the figure size if you want\n",
    "# what plotting info goes here?\n",
    "# try to make a professional-looking figure with axes labels and a legend\n",
    "plt.plot()"
   ]
  },
  {
   "cell_type": "markdown",
   "id": "2223e17b",
   "metadata": {},
   "source": [
    "**b)** Take a look at the plotting code you used above. If you were going to plot another line plot on the same figure, which lines of code would you repeat? Which lines of code would you not repeat? Copy and paste the lines of code into the appropriate code cells below."
   ]
  },
  {
   "cell_type": "code",
   "execution_count": null,
   "id": "e5c2dc7f",
   "metadata": {},
   "outputs": [],
   "source": [
    "# don't repeat"
   ]
  },
  {
   "cell_type": "code",
   "execution_count": null,
   "id": "01858e79",
   "metadata": {},
   "outputs": [],
   "source": [
    "# repeat"
   ]
  },
  {
   "cell_type": "markdown",
   "id": "2270305b",
   "metadata": {},
   "source": [
    "The repeated lines of code are the components you would put into a for loop. The lines that you don't repeat would be outside the loop. \n",
    "\n",
    "**c)** For this problem, you will plot 3 lines on one figure using a for loop. To do this, you will look at 3 different years of data in the same county. For example, you might look at May 2011, May 2012, and May 2013. "
   ]
  },
  {
   "cell_type": "code",
   "execution_count": null,
   "id": "b72293f5",
   "metadata": {},
   "outputs": [],
   "source": [
    "# first, select 3 different time periods to study\n",
    "bdate1 = ''\n",
    "edate1 = ''\n",
    "bdate2 = ''\n",
    "edate2 = ''\n",
    "bdate3 = ''\n",
    "edate3 = ''"
   ]
  },
  {
   "cell_type": "code",
   "execution_count": null,
   "id": "648689a4",
   "metadata": {},
   "outputs": [],
   "source": [
    "# now arrange those start and end dates into two lists\n",
    "bdates = []\n",
    "edates = []"
   ]
  },
  {
   "cell_type": "code",
   "execution_count": null,
   "id": "be4f96cb",
   "metadata": {},
   "outputs": [],
   "source": [
    "# copy the parameter information that isn't changing\n",
    "param = '44201'\n",
    "state = '55'\n",
    "county = '025'"
   ]
  },
  {
   "cell_type": "code",
   "execution_count": null,
   "id": "84f911a1",
   "metadata": {},
   "outputs": [],
   "source": [
    "variable = 'sample_measurement' # this is the variable name for the y-data in the DataFrame"
   ]
  },
  {
   "cell_type": "code",
   "execution_count": null,
   "id": "bb23baee",
   "metadata": {},
   "outputs": [],
   "source": [
    "# make labels for each of the three time periods\n",
    "labels = []"
   ]
  },
  {
   "cell_type": "code",
   "execution_count": null,
   "id": "7e765fbc",
   "metadata": {},
   "outputs": [],
   "source": [
    "# fill in the for loop below\n",
    "\n",
    "# is there a non-repeating item of plotting that goes here?\n",
    "\n",
    "for x in range(3): # why is the range 3?\n",
    "    bdate = bdates[x]\n",
    "    edate = # what goes here?\n",
    "    url = make_url(param, bdate, edate, state, county)\n",
    "    df = make_df(url)\n",
    "    ydata = # what goes here?\n",
    "    plt.plot(ydata, label=#how do you ID the label from the labels list? )\n",
    "\n",
    "# what are the non-repeating items that go here?"
   ]
  },
  {
   "cell_type": "markdown",
   "id": "352dc3ea",
   "metadata": {},
   "source": [
    "Hopefully this exercise has helped you to understand how to make a plot within a loop. You should not be able to identify which elements go in the loop and which elements stay outside the loop!"
   ]
  },
  {
   "cell_type": "markdown",
   "id": "f74a0487",
   "metadata": {},
   "source": [
    "### 3: Making multi-year AQS plots"
   ]
  },
  {
   "cell_type": "markdown",
   "id": "84cadf4a",
   "metadata": {},
   "source": [
    "Let's say you want to analyze summer (June-August) SO2 levels in Dane county, WI over the 4 year period from 2017 through 2020. How would you go about this process?\n",
    "\n",
    "**Note:** when we are working with larger data sets, some loops and functions may take a while to run. You can tell your code is running by looking for the hour-glass symbol on the tab at the top of the browser."
   ]
  },
  {
   "cell_type": "markdown",
   "id": "cd19a67d",
   "metadata": {},
   "source": [
    "**a)** Start with the year 2017: make a url to access summertime SO2 data for Dane County, WI in the year 2017. Well define summer as June 01 to August 31. \n",
    "\n",
    "Remember, we can access the codes for our variables at: https://www.epa.gov/aqs/aqs-code-list"
   ]
  },
  {
   "cell_type": "code",
   "execution_count": null,
   "id": "a2286502",
   "metadata": {},
   "outputs": [],
   "source": []
  },
  {
   "cell_type": "markdown",
   "id": "07abef8c",
   "metadata": {},
   "source": [
    "**b)** Now that you can create one url, let's make a loop to do all the urls. Create a for loop that would find the urls for all 4 years, 2017-2020. Then append these urls to a list.\n",
    "\n",
    "**Hint:** you will have to find a way to change only the start date and end date string for each iteration so that it contains the correct year. Also, don't forget to create an empty list so that you can append to it!"
   ]
  },
  {
   "cell_type": "code",
   "execution_count": null,
   "id": "61b387e1",
   "metadata": {
    "scrolled": true
   },
   "outputs": [],
   "source": []
  },
  {
   "cell_type": "markdown",
   "id": "b03b1c92",
   "metadata": {},
   "source": [
    "**c)** Next, suppose you want a plot a bar graph of the average summer SO2 value for each year. Let's start by finding the average SO2 value for one of our links. Use the year 2017. Turn the url into a dataframe using our make_df function, then find the average SO2 concentration for 2017.\n",
    "\n",
    "**Hint:** since our urls are in a list, we will need to index the list to use just one url. You can say \"url_list[0]\" to get the first url (2017 url)."
   ]
  },
  {
   "cell_type": "code",
   "execution_count": null,
   "id": "4455d6d0",
   "metadata": {
    "scrolled": true
   },
   "outputs": [],
   "source": []
  },
  {
   "cell_type": "markdown",
   "id": "0075aa17",
   "metadata": {},
   "source": [
    "**d)** Now, create a for loop that goes through each url, repeating these steps for each year. Append the average for each year to a new list."
   ]
  },
  {
   "cell_type": "code",
   "execution_count": null,
   "id": "7833e4be",
   "metadata": {},
   "outputs": [],
   "source": []
  },
  {
   "cell_type": "markdown",
   "id": "1cff4c22",
   "metadata": {},
   "source": [
    "**e)** Plot these averages as a bar chart. \n",
    "\n",
    "**Hint:** Think through what your axis will be to figure out what items/list you need in order to plot. Your x-axis should be the year, and your y-axis should be the sample measurement averages for each year. "
   ]
  },
  {
   "cell_type": "code",
   "execution_count": null,
   "id": "0f2873eb",
   "metadata": {},
   "outputs": [],
   "source": [
    "import matplotlib.pyplot as plt\n",
    "import numpy as np"
   ]
  },
  {
   "cell_type": "code",
   "execution_count": null,
   "id": "7e4cc61e",
   "metadata": {},
   "outputs": [],
   "source": []
  },
  {
   "cell_type": "markdown",
   "id": "c593f9fa",
   "metadata": {},
   "source": [
    "**Note:** There are a lot of ways to approach these problems. As long as you get the expected result (and test your result if possible), then your code works! However, keep in mind that **it is best practice in coding to try to make your code as simple, clear, and efficient as possible to achieve the desired result.** So, always ask yourself: even if I got the desired result, was my code efficient? What changes could I make to improve it?"
   ]
  },
  {
   "cell_type": "markdown",
   "id": "c742f956",
   "metadata": {},
   "source": [
    "# Possible answers:"
   ]
  },
  {
   "cell_type": "markdown",
   "id": "ed61b039",
   "metadata": {},
   "source": [
    "### Part 3"
   ]
  },
  {
   "cell_type": "code",
   "execution_count": null,
   "id": "8de52185",
   "metadata": {},
   "outputs": [],
   "source": [
    "def area_of_circle(radius):   # function name that defines its purpose and input = radius\n",
    "    pi = 3.14159              # defining pi, you could also just input the number in the area equation\n",
    "    area = pi * radius**2     # equation for area\n",
    "    return area               # return area"
   ]
  },
  {
   "cell_type": "code",
   "execution_count": null,
   "id": "3ee82e47",
   "metadata": {},
   "outputs": [],
   "source": [
    "area_of_circle(2)             # testing the equation"
   ]
  },
  {
   "cell_type": "code",
   "execution_count": null,
   "id": "2032de75",
   "metadata": {
    "scrolled": false
   },
   "outputs": [],
   "source": [
    "for radius in range(10):\n",
    "    print(area_of_circle(radius))"
   ]
  },
  {
   "cell_type": "markdown",
   "id": "c6f13e79",
   "metadata": {},
   "source": [
    "**Note**: you may have noticed that our range of radii to 10 actually starts at 0 and ends at 9. This is a quirk of Python- counting starts with 0. If you wanted to find the area of a circle with radius 10, you should add 1 to your range."
   ]
  },
  {
   "cell_type": "markdown",
   "id": "93c303c1",
   "metadata": {},
   "source": [
    "### Exercises"
   ]
  },
  {
   "cell_type": "markdown",
   "id": "869e4ba7",
   "metadata": {},
   "source": [
    "#### A brick house"
   ]
  },
  {
   "cell_type": "code",
   "execution_count": null,
   "id": "eac82573",
   "metadata": {},
   "outputs": [],
   "source": [
    "# 1a\n",
    "def brick_weight(number):\n",
    "    weight = number*5\n",
    "    print('Weight = %.1f lbs' %weight)\n",
    "    return weight"
   ]
  },
  {
   "cell_type": "code",
   "execution_count": null,
   "id": "55f9cb2d",
   "metadata": {},
   "outputs": [],
   "source": [
    "# 1b\n",
    "def brick_volume(volume):\n",
    "    vol_brick = 8*2.5*4\n",
    "    num_bricks = volume/vol_brick\n",
    "    print('Number of bricks: %0.f' %num_bricks)\n",
    "    return num_bricks"
   ]
  },
  {
   "cell_type": "code",
   "execution_count": null,
   "id": "c79512af",
   "metadata": {},
   "outputs": [],
   "source": [
    "# 1c\n",
    "# first convert volume of walls from feet to inches\n",
    "length = 20*12 # 12 inches in a foot\n",
    "height = 20*12 # 12 inches in a foot\n",
    "width = 4      # already in inches\n",
    "\n",
    "# then calculate volume of one wall\n",
    "wall = length*height*width\n",
    "# total volume of all four walls\n",
    "total = wall*4\n",
    "\n",
    "# now plug this volume into the volume function\n",
    "bricks = brick_volume(total)\n",
    "\n",
    "# and then convert from bricks to weight\n",
    "weight = brick_weight(bricks)\n"
   ]
  },
  {
   "cell_type": "code",
   "execution_count": null,
   "id": "3d933a74",
   "metadata": {},
   "outputs": [],
   "source": [
    "# 1d\n",
    "def house_volume(length,heigth,width):\n",
    "    length_in = length*12 # convert feet to inches\n",
    "    height_in = height*12 # convert feet to inches\n",
    "    wall = length_in*height_in*width # assume width in inches\n",
    "    total = wall*4\n",
    "    return total"
   ]
  },
  {
   "cell_type": "code",
   "execution_count": null,
   "id": "3c45cd65",
   "metadata": {},
   "outputs": [],
   "source": [
    "for x in range(20,110,10):\n",
    "    volume = house_volume(x,x,4)\n",
    "    bricks = brick_volume(volume)\n",
    "    weight = brick_weight(bricks)\n",
    "    print('Weight of house of size %.0f ft x %.0f ft: %.0f lbs' % (x,x,weight))"
   ]
  },
  {
   "cell_type": "markdown",
   "id": "711fbe9e",
   "metadata": {},
   "source": [
    "#### Plotting in a loop"
   ]
  },
  {
   "cell_type": "code",
   "execution_count": null,
   "id": "77eda218",
   "metadata": {},
   "outputs": [],
   "source": [
    "# remember to import all the packages you'll need\n",
    "import matplotlib.pyplot as plt\n",
    "import pandas as pd"
   ]
  },
  {
   "cell_type": "code",
   "execution_count": null,
   "id": "63872c08",
   "metadata": {},
   "outputs": [],
   "source": [
    "# 2a\n",
    "param = '44201'\n",
    "bdate = '20190501'# start time here\n",
    "edate = '20190531'# end time here\n",
    "state = '55'\n",
    "county = '025' # this is the county code for Dane County"
   ]
  },
  {
   "cell_type": "code",
   "execution_count": null,
   "id": "c587f48f",
   "metadata": {},
   "outputs": [],
   "source": [
    "url = make_url(param, bdate, edate, state, county)\n",
    "df = make_df(url)"
   ]
  },
  {
   "cell_type": "code",
   "execution_count": null,
   "id": "d66ef153",
   "metadata": {},
   "outputs": [],
   "source": [
    "# look at the data and the column labels. Which column do you want to use for y-data?\n",
    "print(df.columns)\n",
    "df"
   ]
  },
  {
   "cell_type": "code",
   "execution_count": null,
   "id": "01ecf414",
   "metadata": {},
   "outputs": [],
   "source": [
    "# using the appropriate y data from your DataFrame, make a line plot displaying ozone versus time.\n",
    "ydata = df['sample_measurement']\n",
    "\n",
    "fig = plt.figure(figsize=(10,8)) # you can change the figure size if you want\n",
    "plt.plot(ydata,label='Ozone in 2019')\n",
    "plt.legend(fontsize=12)\n",
    "plt.xlabel('Sample',fontsize=12)\n",
    "plt.ylabel('Ozone (ppm)',fontsize=12)\n",
    "plt.plot()"
   ]
  },
  {
   "cell_type": "code",
   "execution_count": null,
   "id": "5b3b7418",
   "metadata": {},
   "outputs": [],
   "source": [
    "# 2b\n",
    "# don't repeat\n",
    "fig = plt.figure(figsize=(10,8))\n",
    "plt.legend(fontsize=12)\n",
    "plt.xlabel('Sample',fontsize=12)\n",
    "plt.ylabel('Ozone (ppm)',fontsize=12)\n",
    "plt.plot()"
   ]
  },
  {
   "cell_type": "code",
   "execution_count": null,
   "id": "4179c43b",
   "metadata": {},
   "outputs": [],
   "source": [
    "# repeat\n",
    "plt.plot(ydata,label='Ozone in 2019')"
   ]
  },
  {
   "cell_type": "code",
   "execution_count": null,
   "id": "cd188e15",
   "metadata": {},
   "outputs": [],
   "source": [
    "# 2c\n",
    "bdate1 = '20110501'\n",
    "edate1 = '20110531'\n",
    "bdate2 = '20120501'\n",
    "edate2 = '20120531'\n",
    "bdate3 = '20130501'\n",
    "edate3 = '20130531'"
   ]
  },
  {
   "cell_type": "code",
   "execution_count": null,
   "id": "77d9b14a",
   "metadata": {},
   "outputs": [],
   "source": [
    "# now arrange those start and end dates into two lists\n",
    "bdates = [bdate1,bdate2,bdate3]\n",
    "edates = [edate1,edate2,edate3]"
   ]
  },
  {
   "cell_type": "code",
   "execution_count": null,
   "id": "70e5cd79",
   "metadata": {},
   "outputs": [],
   "source": [
    "# copy the parameter information that isn't changing\n",
    "param = '44201'\n",
    "state = '55'\n",
    "county = '025'"
   ]
  },
  {
   "cell_type": "code",
   "execution_count": null,
   "id": "c396796e",
   "metadata": {},
   "outputs": [],
   "source": [
    "variable = 'sample_measurement' # this is the variable name for the y-data in the DataFrame"
   ]
  },
  {
   "cell_type": "code",
   "execution_count": null,
   "id": "398d15ac",
   "metadata": {},
   "outputs": [],
   "source": [
    "# make labels for each of the three time periods\n",
    "labels = ['2011','2012','2013']"
   ]
  },
  {
   "cell_type": "code",
   "execution_count": null,
   "id": "45d58b18",
   "metadata": {},
   "outputs": [],
   "source": [
    "fig = plt.figure(figsize=(10,8))\n",
    "for x in range(3): # why is the range 3?\n",
    "    bdate = bdates[x]\n",
    "    edate = edates[x]\n",
    "    url = make_url(param, bdate, edate, state, county)\n",
    "    df = make_df(url)\n",
    "    ydata = df[variable]\n",
    "    plt.plot(ydata, label=labels[x])\n",
    "plt.legend(fontsize=12)\n",
    "plt.xlabel('Sample',fontsize=12)\n",
    "plt.ylabel('Ozone (ppm)',fontsize=12)\n",
    "plt.plot()"
   ]
  },
  {
   "cell_type": "markdown",
   "id": "f25cae7c",
   "metadata": {},
   "source": [
    "#### Making multi-year AQS plots"
   ]
  },
  {
   "cell_type": "code",
   "execution_count": null,
   "id": "a09784f1",
   "metadata": {},
   "outputs": [],
   "source": [
    "# Always create your functions first!\n",
    "def make_url(param, bdate, edate, state, county): \n",
    "    base = \"https://aqs.epa.gov/data/api/sampleData/byCounty?email=youremail@wisc.edu&key=yourkey\" \n",
    "    var = \"&param=\" + param + \"&bdate=\" + bdate + \"&edate=\" + edate + \"&state=\" + state + \"&county=\" + county\n",
    "    url = base + var\n",
    "    return url\n",
    "\n",
    "def make_df(url):\n",
    "    r = requests.get(url)\n",
    "    contents = json.loads(r.text)\n",
    "    data = contents[\"Data\"]\n",
    "    data_df = pd.DataFrame(data)\n",
    "    return data_df"
   ]
  },
  {
   "cell_type": "code",
   "execution_count": null,
   "id": "e51c1ea2",
   "metadata": {},
   "outputs": [],
   "source": [
    "# 3a\n",
    "# create the inputs for your function\n",
    "param = \"42401\"\n",
    "bdate = \"20170601\"\n",
    "edate = \"20170831\"\n",
    "state = \"55\"\n",
    "county = \"025\"\n",
    "\n",
    "url = make_url(param, bdate, edate, state, county) # plug values in\n",
    "print(url) # see url"
   ]
  },
  {
   "cell_type": "code",
   "execution_count": null,
   "id": "a509b24e",
   "metadata": {},
   "outputs": [],
   "source": [
    "# 3b\n",
    "url_list = []                   # create empty list\n",
    "\n",
    "for i in range(2017,2020+1):    # don't forget to add one to your range since we want to go through 2020\n",
    "    param = \"42401\"             # this will stay the same for each url\n",
    "    state = \"55\"                # this will stay the same for each url\n",
    "    county = \"025\"              # this will stay the same for each url\n",
    "    bdate = str(i) + \"0601\"     # add each year in our range as a string plus the rest of bdate string\n",
    "    edate = str(i) +\"0831\"      # add each year in our range as a string plus the rest of edate string\n",
    "    url = make_url(param, bdate, edate, state, county)  # call our make url function and define as the url\n",
    "    url_list.append(url)                                # append to our list of urls\n",
    "\n",
    "url_list"
   ]
  },
  {
   "cell_type": "code",
   "execution_count": null,
   "id": "b9b9dcc9",
   "metadata": {},
   "outputs": [],
   "source": [
    "# 3c\n",
    "url_2017 = url_list[0]\n",
    "df_2017 = make_df(url_2017)\n",
    "print(df_2017)\n",
    "print(df_2017[\"sample_measurement\"].mean())"
   ]
  },
  {
   "cell_type": "code",
   "execution_count": null,
   "id": "d356a4f5",
   "metadata": {},
   "outputs": [],
   "source": [
    "# 3d\n",
    "averages_list = []\n",
    "\n",
    "for url in url_list:\n",
    "    df = make_df(url)\n",
    "    average = df[\"sample_measurement\"].mean()\n",
    "    averages_list.append(average)\n",
    "\n",
    "averages_list"
   ]
  },
  {
   "cell_type": "code",
   "execution_count": null,
   "id": "9c216806",
   "metadata": {},
   "outputs": [],
   "source": [
    "# 3e\n",
    "\n",
    "year_list = [2017,2018,2019,2020] # If you had a longer time range, this would not be efficient. \n",
    "# You could instead iterate through the range of years and add each year to the list. Or use pd.date_range()\n",
    "                                \n",
    "x = year_list                            # make year_list the x values\n",
    "y = averages_list                        # make averages_list the y values\n",
    "plt.xlabel(\"Year\", fontsize = 14)        # x-label\n",
    "plt.ylabel(\"SO2 (ppb)\",fontsize = 14)    # y-label\n",
    "plt.title(\"Average summer SO2 in Dane County from 2017-2020\", fontsize = 18) # title\n",
    "plt.xticks(np.arange(2017,2021, step = 1),fontsize = 12) # this line labels the x-ticks correclty  \n",
    "plt.rcParams[\"figure.figsize\"] = (8,6)   # this line changes the plot size\n",
    "\n",
    "plt.bar(x,y)                             # make the plot!"
   ]
  },
  {
   "cell_type": "code",
   "execution_count": null,
   "id": "20e6c821",
   "metadata": {},
   "outputs": [],
   "source": []
  }
 ],
 "metadata": {
  "kernelspec": {
   "display_name": "Python 3 (ipykernel)",
   "language": "python",
   "name": "python3"
  },
  "language_info": {
   "codemirror_mode": {
    "name": "ipython",
    "version": 3
   },
   "file_extension": ".py",
   "mimetype": "text/x-python",
   "name": "python",
   "nbconvert_exporter": "python",
   "pygments_lexer": "ipython3",
   "version": "3.9.12"
  }
 },
 "nbformat": 4,
 "nbformat_minor": 5
}
