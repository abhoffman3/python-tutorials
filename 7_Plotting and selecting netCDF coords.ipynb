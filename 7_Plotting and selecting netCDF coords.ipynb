{
 "cells": [
  {
   "cell_type": "markdown",
   "id": "9df6c603",
   "metadata": {},
   "source": [
    "# Tutorial 7: Plotting and selecting data from netCDF"
   ]
  },
  {
   "cell_type": "markdown",
   "id": "34dd7905",
   "metadata": {},
   "source": [
    "This tutorial will continue working with netCDF files in Xarray and we'll move beyond the basics. In the previous tutorial, we looked at the entire area of the netCDF file. But, as scientists, we often have a specific region of interest that is a subset of the larger dataset region. In this tutorial, we'll learn how to select and plot only an area of interest to us. \n",
    "\n",
    "By the end of this tutorial, you will be able to:\n",
    "* align a cartopy region with netCDF data\n",
    "* create a map using continuous or gridded data from netCDF\n",
    "* select a point and a region of interest from the entire dataset"
   ]
  },
  {
   "cell_type": "markdown",
   "id": "8e34e700",
   "metadata": {},
   "source": [
    "<font color=red>**Note:**</font> This tutorial uses the cmoceans packages, which is a library of very nice colormaps for plotting. You can check out more info here https://matplotlib.org/cmocean/#. "
   ]
  },
  {
   "cell_type": "code",
   "execution_count": null,
   "id": "0f625ccf",
   "metadata": {},
   "outputs": [],
   "source": [
    "# for data manipulation and opening files\n",
    "import xarray as xr\n",
    "import pandas as pd\n",
    "\n",
    "# for plotting\n",
    "import matplotlib.pyplot as plt\n",
    "from cartopy import crs, feature\n",
    "import numpy as np\n",
    "import cmocean"
   ]
  },
  {
   "cell_type": "markdown",
   "id": "0e0a1fb9",
   "metadata": {},
   "source": [
    "### Downloading data\n",
    "\n",
    "We will try out a new type of gridded data for plotting.\n",
    "\n",
    "1. Go to https://www.ncei.noaa.gov/access/world-ocean-atlas-2018/. \n",
    "2. Play around with the different data available. There are several ocean data products. For this tutorial, we will be using sea surface temperature. The code examples will be specific to this data, but you can choose any data product and just change the variable names.    \n",
    "3. Once you have selected a data product from the left hand menu, click \"netCDF\" under available data formats. Choose a time period of interest. This tutorial uses the 2005-2017 summer period. Click \"Update data links\" at the bottom of the left hand menu.\n",
    "    - **Reminder:** If you choose to work with a different data product, year, or grid size, you will need to change the file link below and the variable names. \n",
    "4. On the right hand side, select the Annual data link, t15_01.nc. This will take you to the THREDDS Server page.\n",
    "5. Click the OPeNDAP URL option (top link in the list). \n",
    "6. Copy the Data URL on the OPeNDAP page. \n",
    "7. Paste the URL below in the `file = 'https://` line. Change any other variables. "
   ]
  },
  {
   "cell_type": "code",
   "execution_count": null,
   "id": "aeb57189",
   "metadata": {},
   "outputs": [],
   "source": [
    "# change this file name and/or path if you are using different data\n",
    "file = 'https://www.ncei.noaa.gov/thredds-ocean/dodsC/ncei/woa/temperature/A5B7/1.00/woa18_A5B7_t15_01.nc'"
   ]
  },
  {
   "cell_type": "code",
   "execution_count": null,
   "id": "0ea1255e",
   "metadata": {},
   "outputs": [],
   "source": [
    "# use xarray to open the file you chose\n",
    "data = xr.open_dataset(file,engine='netcdf4',decode_times=False)\n",
    "# decode_times = False needs to be set here because of the way time is coded in this file\n",
    "# what happens if you remove decode_times = False?"
   ]
  },
  {
   "cell_type": "code",
   "execution_count": null,
   "id": "69aa18a5",
   "metadata": {},
   "outputs": [],
   "source": [
    "# what does this data look like?\n",
    "data"
   ]
  },
  {
   "cell_type": "markdown",
   "id": "8a93f0ec",
   "metadata": {},
   "source": [
    "### Plotting the entire area\n",
    "\n",
    "When we first open data, it can sometimes be useful to plot the entire area. This may give us an idea of what the data looks like or any areas of interest."
   ]
  },
  {
   "cell_type": "code",
   "execution_count": null,
   "id": "49e676c9",
   "metadata": {},
   "outputs": [],
   "source": [
    "# the data of interest\n",
    "temp = data['t_an']"
   ]
  },
  {
   "cell_type": "code",
   "execution_count": null,
   "id": "8e4ff89e",
   "metadata": {},
   "outputs": [],
   "source": [
    "# look at it just in case\n",
    "temp"
   ]
  },
  {
   "cell_type": "code",
   "execution_count": null,
   "id": "38b87483",
   "metadata": {},
   "outputs": [],
   "source": [
    "# make a basic contour plot using the lons, lats, and then the surface level of the temperature\n",
    "plt.contourf(temp['lon'],temp['lat'],temp[0,0,:,:])\n",
    "plt.show()"
   ]
  },
  {
   "cell_type": "markdown",
   "id": "4ee85bd9",
   "metadata": {},
   "source": [
    "This is a pretty bad figure, but we can get some basic information from it. First, everything seems really patchy. Why is that?"
   ]
  },
  {
   "cell_type": "markdown",
   "id": "bf603409",
   "metadata": {},
   "source": [
    "**Knowledge Check:** Why are there so many empty spaces in the figure above? What does this have to do with the type of data we are using?"
   ]
  },
  {
   "cell_type": "markdown",
   "id": "79358783",
   "metadata": {},
   "source": [
    "Ocean data is only interested in water. So any land surface areas will not have data. The white spaces in the figure above are from the land - you can see the outlines of the continents!"
   ]
  },
  {
   "cell_type": "markdown",
   "id": "6181c935",
   "metadata": {},
   "source": [
    "### Selecting areas on a map"
   ]
  },
  {
   "cell_type": "markdown",
   "id": "4691c83e",
   "metadata": {},
   "source": [
    "Now that we've looked at the entire dataset area, we can zoom in on a particular section. There are a few ways to do this, but we'll practice the easiest first."
   ]
  },
  {
   "cell_type": "markdown",
   "id": "82cffd35",
   "metadata": {},
   "source": [
    "The easiest method to zoom into an area on a map is to only plot that area with cartopy. This is fast and useful for making a map for presentations, but there are some downsides.   \n",
    "* First, this method does not remove the rest of the data, it just hides it from our view. If you wanted to find the average chlorophyll-a concentration in the zoomed in area, you could not calculate it from the map because the rest of the data actually still exists.    \n",
    "* Second, outliers in the data outside the zoomed in area might affect the colorbar scale of the displayed map. So you could have a map area with concentrations all below 20 mg/m$^{3}$, but a larger concentration elsewhere in the dataset will skew the colorbar scale and you won't be able to see the low concentrations clearly.   \n",
    "* Finally, for really big datasets, it might take a while to plot. You're still technically plotting all the data, it just isn't displayed in the figure area. So if the dataset is really big, you're wasting time plotting data that you don't actually see. "
   ]
  },
  {
   "cell_type": "code",
   "execution_count": null,
   "id": "0cbc8267",
   "metadata": {},
   "outputs": [],
   "source": [
    "# use a specialty colormap for algae\n",
    "cmap = cmocean.cm.thermal"
   ]
  },
  {
   "cell_type": "code",
   "execution_count": null,
   "id": "d34905b2",
   "metadata": {},
   "outputs": [],
   "source": [
    "# select lat and lon region of interest\n",
    "# use the map created above to start zooming in on an area that has a lot of purple coverage\n",
    "# the area of purple coverage might be different than the lats and lons here if you chose a different date\n",
    "latmin = 37\n",
    "latmax = 45\n",
    "lonmin = -65\n",
    "lonmax = -75"
   ]
  },
  {
   "cell_type": "code",
   "execution_count": null,
   "id": "78984586",
   "metadata": {},
   "outputs": [],
   "source": [
    "# set the extents of our box\n",
    "extent = [lonmin,lonmax,latmin,latmax]"
   ]
  },
  {
   "cell_type": "code",
   "execution_count": null,
   "id": "8a84bb2d",
   "metadata": {},
   "outputs": [],
   "source": [
    "# select map projection - do you remember what this is for this dataset?\n",
    "proj = crs.PlateCarree()"
   ]
  },
  {
   "cell_type": "code",
   "execution_count": null,
   "id": "57c39f90",
   "metadata": {},
   "outputs": [],
   "source": [
    "# in order to plot a subset of the data on the map, we must make a grid of the coordinates\n",
    "# first, get a list of each coordinate\n",
    "lats = temp['lat']\n",
    "lons = temp['lon']\n",
    "\n",
    "# then make a grid\n",
    "XX,YY = np.meshgrid(lons,lats)"
   ]
  },
  {
   "cell_type": "code",
   "execution_count": null,
   "id": "8819b435",
   "metadata": {},
   "outputs": [],
   "source": [
    "# create a pyplot figure\n",
    "fig = plt.figure(figsize=(8,10))\n",
    "# create a new axes instance with the map information\n",
    "ax = fig.add_subplot(1,1,1,projection=proj)\n",
    "ax.set_extent(extent)\n",
    "# add gridlines\n",
    "gl = ax.gridlines(crs.PlateCarree(),draw_labels=True,linewidth=1,color='gray',alpha=0.5,linestyle='--')\n",
    "# add features\n",
    "ax.add_feature(feature.STATES)\n",
    "ax.add_feature(feature.RIVERS)\n",
    "im = plt.contourf(XX,YY,temp[0,0,:,:],cmap=cmap,transform=proj)\n",
    "plt.colorbar(im,orientation='horizontal',label='Temperature (˚C)')\n",
    "plt.show()"
   ]
  },
  {
   "cell_type": "markdown",
   "id": "3d79a495",
   "metadata": {},
   "source": [
    "What do you notice about this figure? What about the colorbar scale? What could make this figure better?"
   ]
  },
  {
   "cell_type": "markdown",
   "id": "c59bac5a",
   "metadata": {},
   "source": [
    "The figure above has a colorbar scale that goes from -5 to 40 ˚C, even though the data in the figure does not seem to go this high or low. This is one of the problems with this plotting method. Your colorbar scale may be different if you used a different date of data."
   ]
  },
  {
   "cell_type": "markdown",
   "id": "d5811cbd",
   "metadata": {},
   "source": [
    "Instead of plotting all the data but hiding most of it, we can instead select a subsection of the data using slicing. This method takes a few more steps because you need to know the area of interest. However, there are several benefits such as being able to really focus on the actual area of interest. "
   ]
  },
  {
   "cell_type": "code",
   "execution_count": null,
   "id": "4680a74e",
   "metadata": {},
   "outputs": [],
   "source": [
    "# identify the map area extent\n",
    "latmin = 37\n",
    "latmax = 45\n",
    "lonmin = -65\n",
    "lonmax = -75"
   ]
  },
  {
   "cell_type": "code",
   "execution_count": null,
   "id": "a1755d05",
   "metadata": {},
   "outputs": [],
   "source": [
    "# slice the data using these limits\n",
    "subset = temp.sel(lat=slice(latmin,latmax),lon=slice(lonmax,lonmin))"
   ]
  },
  {
   "cell_type": "code",
   "execution_count": null,
   "id": "0f302d37",
   "metadata": {},
   "outputs": [],
   "source": [
    "# check out the data and the change in dimensions\n",
    "subset"
   ]
  },
  {
   "cell_type": "code",
   "execution_count": null,
   "id": "304546a1",
   "metadata": {},
   "outputs": [],
   "source": [
    "# set the extents of our box\n",
    "extent = [lonmin,lonmax,latmin,latmax]\n",
    "# select map projection\n",
    "proj = crs.PlateCarree()"
   ]
  },
  {
   "cell_type": "code",
   "execution_count": null,
   "id": "f25b57bd",
   "metadata": {},
   "outputs": [],
   "source": [
    "# in order to plot a subset of the data on the map, we must make a grid of the coordinates\n",
    "# first, get a list of each coordinate\n",
    "lats = subset['lat']\n",
    "lons = subset['lon']\n",
    "\n",
    "# then make a grid\n",
    "XX,YY = np.meshgrid(lons,lats)"
   ]
  },
  {
   "cell_type": "code",
   "execution_count": null,
   "id": "ed629183",
   "metadata": {},
   "outputs": [],
   "source": [
    "# create a pyplot figure\n",
    "fig = plt.figure(figsize=(8,10))\n",
    "# create a new axes instance with the map information\n",
    "ax = fig.add_subplot(1,1,1,projection=proj)\n",
    "ax.set_extent(extent)\n",
    "# add gridlines\n",
    "gl = ax.gridlines(crs.PlateCarree(),draw_labels=True,linewidth=1,color='gray',alpha=0.5,linestyle='--')\n",
    "# add features\n",
    "ax.add_feature(feature.STATES)\n",
    "ax.add_feature(feature.RIVERS)\n",
    "im = plt.contourf(XX,YY,subset[0,0,:,:],cmap=cmap,transform=proj)\n",
    "plt.colorbar(im,orientation='horizontal',label='Temperature (˚C)')\n",
    "plt.show()"
   ]
  },
  {
   "cell_type": "markdown",
   "id": "478bf816",
   "metadata": {},
   "source": [
    "The colorbar scale on this figure is a little better, and the code cell also ran a lot faster. But why is there so much white space between land and the ocean?"
   ]
  },
  {
   "cell_type": "markdown",
   "id": "4c93c725",
   "metadata": {},
   "source": [
    "**Knowledge Check:** Why is there empty space between the land and ocean, and why does the ocean end in straight lines? Hint: you might look back at the World Ocean Atlas website where you downloaded the data."
   ]
  },
  {
   "cell_type": "markdown",
   "id": "cb555616",
   "metadata": {},
   "source": [
    "The empty spaces are there because we downloaded data on a 1˚ by 1˚ grid. This is quite a large grid, and it will miss all of the small coastal details. "
   ]
  },
  {
   "cell_type": "markdown",
   "id": "cd38dca2",
   "metadata": {},
   "source": [
    "### Different grids and data types"
   ]
  },
  {
   "cell_type": "markdown",
   "id": "6981c6c4",
   "metadata": {},
   "source": [
    "Let's download a different dataset from the World Ocean Atlas on a different grid and make some comparisons.\n",
    "\n",
    "1. Go to https://www.ncei.noaa.gov/access/world-ocean-atlas-2018/. \n",
    "2. Play around with the different data available. There are several ocean data products. The following code uses annual average density on a quarter degree (1/4˚) grid.    \n",
    "3. Once you have selected a data product from the left hand menu, click \"netCDF\" under available data formats and click \"Update data links\" at the bottom of the left hand menu.\n",
    "    - **Reminder:** If you choose to work with a different data product, year, or grid size, you will need to change the file link below and the variable names. \n",
    "4. On the right hand side, select the Annual data link. This will take you to the THREDDS Server page.\n",
    "5. Click the OPeNDAP URL option (top link in the list). \n",
    "6. Copy the Data URL on the OPeNDAP page. \n",
    "7. Paste the URL below in the `file = 'https://` line. Change any other variables. "
   ]
  },
  {
   "cell_type": "code",
   "execution_count": null,
   "id": "a7e12945",
   "metadata": {},
   "outputs": [],
   "source": [
    "file2 = 'https://www.ncei.noaa.gov/thredds-ocean/dodsC/ncei/woa/density/decav/0.25/woa18_decav_I00_04.nc'"
   ]
  },
  {
   "cell_type": "code",
   "execution_count": null,
   "id": "221ef2b5",
   "metadata": {},
   "outputs": [],
   "source": [
    "data2 = xr.open_dataset(file2,engine='netcdf4',decode_times=False)"
   ]
  },
  {
   "cell_type": "code",
   "execution_count": null,
   "id": "997fa3d4",
   "metadata": {},
   "outputs": [],
   "source": [
    "# look at the data. What differences do you notice?\n",
    "data2"
   ]
  },
  {
   "cell_type": "markdown",
   "id": "dd905e56",
   "metadata": {},
   "source": [
    "The lat and lon dims are much larger now because they have 4x as many grid points!"
   ]
  },
  {
   "cell_type": "markdown",
   "id": "ffe27c24",
   "metadata": {},
   "source": [
    "Let's plot the same zoomed in area as before."
   ]
  },
  {
   "cell_type": "code",
   "execution_count": null,
   "id": "ac815a87",
   "metadata": {},
   "outputs": [],
   "source": [
    "# the data of interest\n",
    "dens = data2['I_an'][0,0,:,:]\n",
    "dens"
   ]
  },
  {
   "cell_type": "code",
   "execution_count": null,
   "id": "b2a64fe3",
   "metadata": {},
   "outputs": [],
   "source": [
    "# select lat and lon region of interest\n",
    "latmin = 37\n",
    "latmax = 45\n",
    "lonmin = -65\n",
    "lonmax = -75"
   ]
  },
  {
   "cell_type": "code",
   "execution_count": null,
   "id": "c251a587",
   "metadata": {},
   "outputs": [],
   "source": [
    "# the subset area of interest\n",
    "subset = dens.sel(lat=slice(latmin,latmax),lon=slice(lonmax,lonmin))"
   ]
  },
  {
   "cell_type": "code",
   "execution_count": null,
   "id": "89d1c99f",
   "metadata": {},
   "outputs": [],
   "source": [
    "# set the extents of our box\n",
    "extent = [lonmin,lonmax,latmin,latmax]"
   ]
  },
  {
   "cell_type": "code",
   "execution_count": null,
   "id": "b786e45f",
   "metadata": {},
   "outputs": [],
   "source": [
    "# select map projection - do you remember what this is for this dataset?\n",
    "proj = crs.PlateCarree()"
   ]
  },
  {
   "cell_type": "code",
   "execution_count": null,
   "id": "087e5c2f",
   "metadata": {},
   "outputs": [],
   "source": [
    "# in order to plot a subset of the data on the map, we must make a grid of the coordinates\n",
    "# first, get a list of each coordinate\n",
    "lats = subset['lat']\n",
    "lons = subset['lon']\n",
    "\n",
    "# then make a grid\n",
    "XX,YY = np.meshgrid(lons,lats)"
   ]
  },
  {
   "cell_type": "code",
   "execution_count": null,
   "id": "f71017e9",
   "metadata": {},
   "outputs": [],
   "source": [
    "cmap2 = cmocean.cm.dense"
   ]
  },
  {
   "cell_type": "code",
   "execution_count": null,
   "id": "2bec4f22",
   "metadata": {},
   "outputs": [],
   "source": [
    "# create a pyplot figure\n",
    "fig = plt.figure(figsize=(8,10))\n",
    "# create a new axes instance with the map information\n",
    "ax = fig.add_subplot(1,1,1,projection=proj)\n",
    "ax.set_extent(extent)\n",
    "# add gridlines\n",
    "gl = ax.gridlines(crs.PlateCarree(),draw_labels=True,linewidth=1,color='gray',alpha=0.5,linestyle='--')\n",
    "# add features\n",
    "ax.add_feature(feature.STATES)\n",
    "ax.add_feature(feature.RIVERS)\n",
    "im = plt.contourf(XX,YY,subset,cmap=cmap2,transform=proj)\n",
    "plt.colorbar(im,orientation='horizontal',label='Density $(kg/m^{3})$')\n",
    "plt.show()"
   ]
  },
  {
   "cell_type": "markdown",
   "id": "961e0472",
   "metadata": {},
   "source": [
    "The data coverage close to the coast is much better now that we have a smaller grid size. Let's zoom back out and look at the entire ocean."
   ]
  },
  {
   "cell_type": "code",
   "execution_count": null,
   "id": "681c14ce",
   "metadata": {},
   "outputs": [],
   "source": [
    "lats = dens['lat']\n",
    "lons = dens['lon']\n",
    "\n",
    "XX,YY = np.meshgrid(lons,lats)"
   ]
  },
  {
   "cell_type": "code",
   "execution_count": null,
   "id": "d7d1ba7a",
   "metadata": {},
   "outputs": [],
   "source": [
    "# create a pyplot figure\n",
    "fig = plt.figure(figsize=(8,10))\n",
    "# create a new axes instance with the map information\n",
    "ax = fig.add_subplot(1,1,1,projection=proj)\n",
    "ax.set_extent([-180,180,-90,90])\n",
    "# add gridlines\n",
    "gl = ax.gridlines(crs.PlateCarree(),draw_labels=True,linewidth=1,color='gray',alpha=0.5,linestyle='--')\n",
    "# add features\n",
    "ax.add_feature(feature.LAND,color='grey',alpha=0.3)\n",
    "ax.add_feature(feature.RIVERS)\n",
    "im = plt.contourf(XX,YY,dens,cmap=cmap2,transform=proj)\n",
    "plt.colorbar(im,orientation='horizontal',label='Density $(kg/m^{3})$')\n",
    "plt.show()"
   ]
  },
  {
   "cell_type": "markdown",
   "id": "0e5349f7",
   "metadata": {},
   "source": [
    "Is there anything in particular you notice about this figure? Maybe the colorbar scale? In fact, the colorbar scale is a little worrying. Density should not be $0 kg/m^3$, that implies there is nothing there. Let's check the min value of our dataset."
   ]
  },
  {
   "cell_type": "code",
   "execution_count": null,
   "id": "7938f741",
   "metadata": {},
   "outputs": [],
   "source": [
    "dens.min()"
   ]
  },
  {
   "cell_type": "markdown",
   "id": "be211c44",
   "metadata": {},
   "source": [
    "At least the minimum isn't actually zero, but it is really small. This highlights the importance of knowing your data. These density values we've been using are not absolute densities, they are sigma-t densities. They are the difference from $1000 kg/m^{3}$, which is why we can have such small values. In reality, the density values should be 1000 + dens."
   ]
  },
  {
   "cell_type": "code",
   "execution_count": null,
   "id": "929b48a0",
   "metadata": {},
   "outputs": [],
   "source": [
    "# create a pyplot figure\n",
    "fig = plt.figure(figsize=(8,10))\n",
    "# create a new axes instance with the map information\n",
    "ax = fig.add_subplot(1,1,1,projection=proj)\n",
    "ax.set_extent([-180,180,-90,90])\n",
    "# add gridlines\n",
    "gl = ax.gridlines(crs.PlateCarree(),draw_labels=True,linewidth=1,color='gray',alpha=0.5,linestyle='--')\n",
    "# add features\n",
    "ax.add_feature(feature.LAND,color='grey',alpha=0.3)\n",
    "ax.add_feature(feature.RIVERS)\n",
    "im = plt.contourf(XX,YY,dens+1000,cmap=cmap2,transform=proj)\n",
    "plt.colorbar(im,orientation='horizontal',label='Density $(kg/m^{3})$')\n",
    "plt.show()"
   ]
  },
  {
   "cell_type": "markdown",
   "id": "5e3f3638",
   "metadata": {},
   "source": [
    "These are the actual density values, not the sigma values."
   ]
  },
  {
   "cell_type": "markdown",
   "id": "cd8f86a7",
   "metadata": {},
   "source": [
    "### Exercises"
   ]
  },
  {
   "cell_type": "markdown",
   "id": "268b4afd",
   "metadata": {},
   "source": [
    "**1.** Download a new set of data and plot a coastal region of your choosing.   \n",
    "a) Download the data and look at it."
   ]
  },
  {
   "cell_type": "code",
   "execution_count": null,
   "id": "2eda2003",
   "metadata": {},
   "outputs": [],
   "source": []
  },
  {
   "cell_type": "markdown",
   "id": "34cd2e22",
   "metadata": {},
   "source": [
    "b) Based on your plot, where is the important coastal data located? Zoom in on this area by creating new lat and lon extents and subselecting the coastal data."
   ]
  },
  {
   "cell_type": "code",
   "execution_count": null,
   "id": "222fc8c7",
   "metadata": {},
   "outputs": [],
   "source": [
    "latmin =\n",
    "latmax =\n",
    "lonmin =\n",
    "lonmax ="
   ]
  },
  {
   "cell_type": "code",
   "execution_count": null,
   "id": "a0817e1b",
   "metadata": {},
   "outputs": [],
   "source": [
    "coastal_subset = "
   ]
  },
  {
   "cell_type": "markdown",
   "id": "62c41b46",
   "metadata": {},
   "source": [
    "c) Plot this new data."
   ]
  },
  {
   "cell_type": "code",
   "execution_count": null,
   "id": "da3ef638",
   "metadata": {},
   "outputs": [],
   "source": []
  }
 ],
 "metadata": {
  "kernelspec": {
   "display_name": "Python 3 (ipykernel)",
   "language": "python",
   "name": "python3"
  },
  "language_info": {
   "codemirror_mode": {
    "name": "ipython",
    "version": 3
   },
   "file_extension": ".py",
   "mimetype": "text/x-python",
   "name": "python",
   "nbconvert_exporter": "python",
   "pygments_lexer": "ipython3",
   "version": "3.9.16"
  }
 },
 "nbformat": 4,
 "nbformat_minor": 5
}
