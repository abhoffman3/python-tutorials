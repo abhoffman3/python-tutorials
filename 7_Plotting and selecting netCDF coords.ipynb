{
 "cells": [
  {
   "cell_type": "markdown",
   "id": "9df6c603",
   "metadata": {},
   "source": [
    "# Tutorial 7: Plotting and selecting data from netCDF"
   ]
  },
  {
   "cell_type": "markdown",
   "id": "34dd7905",
   "metadata": {},
   "source": [
    "This tutorial will continue working with netCDF files in Xarray and we'll move beyond the basics. In the previous tutorial, we looked at the entire area of the netCDF file. But, as scientists, we often have a specific region of interest that is a subset of the larger dataset region. In this tutorial, we'll learn how to select and plot only an area of interest to us. \n",
    "\n",
    "By the end of this tutorial, you will be able to:\n",
    "* align a cartopy region with netCDF data\n",
    "* create a map using continuous or gridded data from netCDF\n",
    "* select a point and a region of interest from the entire dataset"
   ]
  },
  {
   "cell_type": "markdown",
   "id": "8e34e700",
   "metadata": {},
   "source": [
    "<font color=red>**Note:**</font> This tutorial uses the cmoceans packages, which is a library of very nice colormaps for plotting. You can check out more info here https://matplotlib.org/cmocean/#. \n",
    "Before moving forward, you must install cmoceans. To do this, open a new terminal (Mac) or Anaconda Prompt (PC) window, and type in `conda install -c conda-forge cmocean`. Hit enter, and when prompted type `y`. Then continue with this tutorial!"
   ]
  },
  {
   "cell_type": "code",
   "execution_count": 3,
   "id": "0f625ccf",
   "metadata": {},
   "outputs": [],
   "source": [
    "# for data manipulation and opening files\n",
    "import xarray as xr\n",
    "import pandas as pd\n",
    "\n",
    "# for plotting\n",
    "import matplotlib.pyplot as plt\n",
    "from cartopy import crs, feature\n",
    "import numpy as np\n",
    "import cmocean"
   ]
  },
  {
   "cell_type": "markdown",
   "id": "0e0a1fb9",
   "metadata": {},
   "source": [
    "### Downloading data\n",
    "\n",
    "Files of large gridded datasets can be too large to easily share. Instead, you will need to download the data yourself. In later tutorials, we will show ways to download data with Python code and ways to work with cloud-based data without downloading. \n",
    "\n",
    "**Note:** Satellite data available online can be found at different levels of processing. For this tutorial, we will be working with L3, or level 3, satellite data. This means the data is spaced evenly on a uniform grid, and the time steps are uniform as well.  When searching for data, be sure to specify L3 in the search bar.\n",
    "\n",
    "1. Go to https://worldview.earthdata.nasa.gov/. \n",
    "2. Play around with the different data available. There are many different satellite data products. For this tutorial, we will be using Aqua MODIS Global Mapped Chlorophyll-a. The code examples will be specific to this data, but you can choose any data product and just change the variable names.    \n",
    "3. Once you have selected a data product and date, click \"Data\" in the top left corner then click on \"NASA's Earthdata Search\". Or go to https://search.earthdata.nasa.gov/. \n",
    "4. In the EarthData search, you will need to fill in the \"Search for collections or topics\" bar at the upper left corner. Include information such as the instrument (Aqua), the data product (chlorophyll), and the level (L3). Hit enter.\n",
    "    - **Reminder:** Even if you choose to work with a different data product, be sure to select L3 data, not L2. \n",
    "5. In the center white panel, a list of types of satellite data products will appear. Scroll through to find the product that matches what you want. The data in this tutorial can be found under the \"Aqua MODIS Global Mapped Chlorophyll (CHL) Data, version 2018\" list item. Click the data product you want. \n",
    "6. A series of boxes for each data file will appear. In the case of the Aqua Chlorophyll-a product, each box is one day of data mapped globally. There are two different grid scales to choose from for each day: 4 km and 9 km grids. The 4 km grid is used in this tutorial. Once you find a date of interest and an appropriate grid size, click the download icon in the bottom lefthand corner of the data box (not the large download buttom in the bottom right corner).\n",
    "7. You will be directed to register an account with NASA Earthdata. Follow the instructions to create an account. \n",
    "8. Once you've created an account and logged in, your file will automatically download.\n",
    "9. Your file might download as a .zip if it is especially large. In that case, click the file to unzip and then change the file names in the tutorial to include the path."
   ]
  },
  {
   "cell_type": "markdown",
   "id": "c79c57a2",
   "metadata": {},
   "source": [
    "A note on the naming convention: the Aqua chlorophyll files start with \"A#######\". The A stands for Aqua (the satellite), and the numbers are YYYYDDD. The first four numbers are the year, and the last three numbers are the date of the year starting at 1 and going to 365. So the date of the below file is day 185 of 2022, or July 4."
   ]
  },
  {
   "cell_type": "code",
   "execution_count": 1,
   "id": "aeb57189",
   "metadata": {},
   "outputs": [],
   "source": [
    "# change this file name and/or path if you are using different data\n",
    "file = 'A2022185.L3m_DAY_CHL_chlor_a_4km.nc'"
   ]
  },
  {
   "cell_type": "code",
   "execution_count": 4,
   "id": "0ea1255e",
   "metadata": {},
   "outputs": [],
   "source": [
    "# use xarray to open the file you chose\n",
    "data = xr.open_dataset(file,engine='netcdf4')"
   ]
  },
  {
   "cell_type": "code",
   "execution_count": 5,
   "id": "69aa18a5",
   "metadata": {},
   "outputs": [
    {
     "data": {
      "text/html": [
       "<div><svg style=\"position: absolute; width: 0; height: 0; overflow: hidden\">\n",
       "<defs>\n",
       "<symbol id=\"icon-database\" viewBox=\"0 0 32 32\">\n",
       "<path d=\"M16 0c-8.837 0-16 2.239-16 5v4c0 2.761 7.163 5 16 5s16-2.239 16-5v-4c0-2.761-7.163-5-16-5z\"></path>\n",
       "<path d=\"M16 17c-8.837 0-16-2.239-16-5v6c0 2.761 7.163 5 16 5s16-2.239 16-5v-6c0 2.761-7.163 5-16 5z\"></path>\n",
       "<path d=\"M16 26c-8.837 0-16-2.239-16-5v6c0 2.761 7.163 5 16 5s16-2.239 16-5v-6c0 2.761-7.163 5-16 5z\"></path>\n",
       "</symbol>\n",
       "<symbol id=\"icon-file-text2\" viewBox=\"0 0 32 32\">\n",
       "<path d=\"M28.681 7.159c-0.694-0.947-1.662-2.053-2.724-3.116s-2.169-2.030-3.116-2.724c-1.612-1.182-2.393-1.319-2.841-1.319h-15.5c-1.378 0-2.5 1.121-2.5 2.5v27c0 1.378 1.122 2.5 2.5 2.5h23c1.378 0 2.5-1.122 2.5-2.5v-19.5c0-0.448-0.137-1.23-1.319-2.841zM24.543 5.457c0.959 0.959 1.712 1.825 2.268 2.543h-4.811v-4.811c0.718 0.556 1.584 1.309 2.543 2.268zM28 29.5c0 0.271-0.229 0.5-0.5 0.5h-23c-0.271 0-0.5-0.229-0.5-0.5v-27c0-0.271 0.229-0.5 0.5-0.5 0 0 15.499-0 15.5 0v7c0 0.552 0.448 1 1 1h7v19.5z\"></path>\n",
       "<path d=\"M23 26h-14c-0.552 0-1-0.448-1-1s0.448-1 1-1h14c0.552 0 1 0.448 1 1s-0.448 1-1 1z\"></path>\n",
       "<path d=\"M23 22h-14c-0.552 0-1-0.448-1-1s0.448-1 1-1h14c0.552 0 1 0.448 1 1s-0.448 1-1 1z\"></path>\n",
       "<path d=\"M23 18h-14c-0.552 0-1-0.448-1-1s0.448-1 1-1h14c0.552 0 1 0.448 1 1s-0.448 1-1 1z\"></path>\n",
       "</symbol>\n",
       "</defs>\n",
       "</svg>\n",
       "<style>/* CSS stylesheet for displaying xarray objects in jupyterlab.\n",
       " *\n",
       " */\n",
       "\n",
       ":root {\n",
       "  --xr-font-color0: var(--jp-content-font-color0, rgba(0, 0, 0, 1));\n",
       "  --xr-font-color2: var(--jp-content-font-color2, rgba(0, 0, 0, 0.54));\n",
       "  --xr-font-color3: var(--jp-content-font-color3, rgba(0, 0, 0, 0.38));\n",
       "  --xr-border-color: var(--jp-border-color2, #e0e0e0);\n",
       "  --xr-disabled-color: var(--jp-layout-color3, #bdbdbd);\n",
       "  --xr-background-color: var(--jp-layout-color0, white);\n",
       "  --xr-background-color-row-even: var(--jp-layout-color1, white);\n",
       "  --xr-background-color-row-odd: var(--jp-layout-color2, #eeeeee);\n",
       "}\n",
       "\n",
       "html[theme=dark],\n",
       "body.vscode-dark {\n",
       "  --xr-font-color0: rgba(255, 255, 255, 1);\n",
       "  --xr-font-color2: rgba(255, 255, 255, 0.54);\n",
       "  --xr-font-color3: rgba(255, 255, 255, 0.38);\n",
       "  --xr-border-color: #1F1F1F;\n",
       "  --xr-disabled-color: #515151;\n",
       "  --xr-background-color: #111111;\n",
       "  --xr-background-color-row-even: #111111;\n",
       "  --xr-background-color-row-odd: #313131;\n",
       "}\n",
       "\n",
       ".xr-wrap {\n",
       "  display: block;\n",
       "  min-width: 300px;\n",
       "  max-width: 700px;\n",
       "}\n",
       "\n",
       ".xr-text-repr-fallback {\n",
       "  /* fallback to plain text repr when CSS is not injected (untrusted notebook) */\n",
       "  display: none;\n",
       "}\n",
       "\n",
       ".xr-header {\n",
       "  padding-top: 6px;\n",
       "  padding-bottom: 6px;\n",
       "  margin-bottom: 4px;\n",
       "  border-bottom: solid 1px var(--xr-border-color);\n",
       "}\n",
       "\n",
       ".xr-header > div,\n",
       ".xr-header > ul {\n",
       "  display: inline;\n",
       "  margin-top: 0;\n",
       "  margin-bottom: 0;\n",
       "}\n",
       "\n",
       ".xr-obj-type,\n",
       ".xr-array-name {\n",
       "  margin-left: 2px;\n",
       "  margin-right: 10px;\n",
       "}\n",
       "\n",
       ".xr-obj-type {\n",
       "  color: var(--xr-font-color2);\n",
       "}\n",
       "\n",
       ".xr-sections {\n",
       "  padding-left: 0 !important;\n",
       "  display: grid;\n",
       "  grid-template-columns: 150px auto auto 1fr 20px 20px;\n",
       "}\n",
       "\n",
       ".xr-section-item {\n",
       "  display: contents;\n",
       "}\n",
       "\n",
       ".xr-section-item input {\n",
       "  display: none;\n",
       "}\n",
       "\n",
       ".xr-section-item input + label {\n",
       "  color: var(--xr-disabled-color);\n",
       "}\n",
       "\n",
       ".xr-section-item input:enabled + label {\n",
       "  cursor: pointer;\n",
       "  color: var(--xr-font-color2);\n",
       "}\n",
       "\n",
       ".xr-section-item input:enabled + label:hover {\n",
       "  color: var(--xr-font-color0);\n",
       "}\n",
       "\n",
       ".xr-section-summary {\n",
       "  grid-column: 1;\n",
       "  color: var(--xr-font-color2);\n",
       "  font-weight: 500;\n",
       "}\n",
       "\n",
       ".xr-section-summary > span {\n",
       "  display: inline-block;\n",
       "  padding-left: 0.5em;\n",
       "}\n",
       "\n",
       ".xr-section-summary-in:disabled + label {\n",
       "  color: var(--xr-font-color2);\n",
       "}\n",
       "\n",
       ".xr-section-summary-in + label:before {\n",
       "  display: inline-block;\n",
       "  content: '►';\n",
       "  font-size: 11px;\n",
       "  width: 15px;\n",
       "  text-align: center;\n",
       "}\n",
       "\n",
       ".xr-section-summary-in:disabled + label:before {\n",
       "  color: var(--xr-disabled-color);\n",
       "}\n",
       "\n",
       ".xr-section-summary-in:checked + label:before {\n",
       "  content: '▼';\n",
       "}\n",
       "\n",
       ".xr-section-summary-in:checked + label > span {\n",
       "  display: none;\n",
       "}\n",
       "\n",
       ".xr-section-summary,\n",
       ".xr-section-inline-details {\n",
       "  padding-top: 4px;\n",
       "  padding-bottom: 4px;\n",
       "}\n",
       "\n",
       ".xr-section-inline-details {\n",
       "  grid-column: 2 / -1;\n",
       "}\n",
       "\n",
       ".xr-section-details {\n",
       "  display: none;\n",
       "  grid-column: 1 / -1;\n",
       "  margin-bottom: 5px;\n",
       "}\n",
       "\n",
       ".xr-section-summary-in:checked ~ .xr-section-details {\n",
       "  display: contents;\n",
       "}\n",
       "\n",
       ".xr-array-wrap {\n",
       "  grid-column: 1 / -1;\n",
       "  display: grid;\n",
       "  grid-template-columns: 20px auto;\n",
       "}\n",
       "\n",
       ".xr-array-wrap > label {\n",
       "  grid-column: 1;\n",
       "  vertical-align: top;\n",
       "}\n",
       "\n",
       ".xr-preview {\n",
       "  color: var(--xr-font-color3);\n",
       "}\n",
       "\n",
       ".xr-array-preview,\n",
       ".xr-array-data {\n",
       "  padding: 0 5px !important;\n",
       "  grid-column: 2;\n",
       "}\n",
       "\n",
       ".xr-array-data,\n",
       ".xr-array-in:checked ~ .xr-array-preview {\n",
       "  display: none;\n",
       "}\n",
       "\n",
       ".xr-array-in:checked ~ .xr-array-data,\n",
       ".xr-array-preview {\n",
       "  display: inline-block;\n",
       "}\n",
       "\n",
       ".xr-dim-list {\n",
       "  display: inline-block !important;\n",
       "  list-style: none;\n",
       "  padding: 0 !important;\n",
       "  margin: 0;\n",
       "}\n",
       "\n",
       ".xr-dim-list li {\n",
       "  display: inline-block;\n",
       "  padding: 0;\n",
       "  margin: 0;\n",
       "}\n",
       "\n",
       ".xr-dim-list:before {\n",
       "  content: '(';\n",
       "}\n",
       "\n",
       ".xr-dim-list:after {\n",
       "  content: ')';\n",
       "}\n",
       "\n",
       ".xr-dim-list li:not(:last-child):after {\n",
       "  content: ',';\n",
       "  padding-right: 5px;\n",
       "}\n",
       "\n",
       ".xr-has-index {\n",
       "  font-weight: bold;\n",
       "}\n",
       "\n",
       ".xr-var-list,\n",
       ".xr-var-item {\n",
       "  display: contents;\n",
       "}\n",
       "\n",
       ".xr-var-item > div,\n",
       ".xr-var-item label,\n",
       ".xr-var-item > .xr-var-name span {\n",
       "  background-color: var(--xr-background-color-row-even);\n",
       "  margin-bottom: 0;\n",
       "}\n",
       "\n",
       ".xr-var-item > .xr-var-name:hover span {\n",
       "  padding-right: 5px;\n",
       "}\n",
       "\n",
       ".xr-var-list > li:nth-child(odd) > div,\n",
       ".xr-var-list > li:nth-child(odd) > label,\n",
       ".xr-var-list > li:nth-child(odd) > .xr-var-name span {\n",
       "  background-color: var(--xr-background-color-row-odd);\n",
       "}\n",
       "\n",
       ".xr-var-name {\n",
       "  grid-column: 1;\n",
       "}\n",
       "\n",
       ".xr-var-dims {\n",
       "  grid-column: 2;\n",
       "}\n",
       "\n",
       ".xr-var-dtype {\n",
       "  grid-column: 3;\n",
       "  text-align: right;\n",
       "  color: var(--xr-font-color2);\n",
       "}\n",
       "\n",
       ".xr-var-preview {\n",
       "  grid-column: 4;\n",
       "}\n",
       "\n",
       ".xr-var-name,\n",
       ".xr-var-dims,\n",
       ".xr-var-dtype,\n",
       ".xr-preview,\n",
       ".xr-attrs dt {\n",
       "  white-space: nowrap;\n",
       "  overflow: hidden;\n",
       "  text-overflow: ellipsis;\n",
       "  padding-right: 10px;\n",
       "}\n",
       "\n",
       ".xr-var-name:hover,\n",
       ".xr-var-dims:hover,\n",
       ".xr-var-dtype:hover,\n",
       ".xr-attrs dt:hover {\n",
       "  overflow: visible;\n",
       "  width: auto;\n",
       "  z-index: 1;\n",
       "}\n",
       "\n",
       ".xr-var-attrs,\n",
       ".xr-var-data {\n",
       "  display: none;\n",
       "  background-color: var(--xr-background-color) !important;\n",
       "  padding-bottom: 5px !important;\n",
       "}\n",
       "\n",
       ".xr-var-attrs-in:checked ~ .xr-var-attrs,\n",
       ".xr-var-data-in:checked ~ .xr-var-data {\n",
       "  display: block;\n",
       "}\n",
       "\n",
       ".xr-var-data > table {\n",
       "  float: right;\n",
       "}\n",
       "\n",
       ".xr-var-name span,\n",
       ".xr-var-data,\n",
       ".xr-attrs {\n",
       "  padding-left: 25px !important;\n",
       "}\n",
       "\n",
       ".xr-attrs,\n",
       ".xr-var-attrs,\n",
       ".xr-var-data {\n",
       "  grid-column: 1 / -1;\n",
       "}\n",
       "\n",
       "dl.xr-attrs {\n",
       "  padding: 0;\n",
       "  margin: 0;\n",
       "  display: grid;\n",
       "  grid-template-columns: 125px auto;\n",
       "}\n",
       "\n",
       ".xr-attrs dt,\n",
       ".xr-attrs dd {\n",
       "  padding: 0;\n",
       "  margin: 0;\n",
       "  float: left;\n",
       "  padding-right: 10px;\n",
       "  width: auto;\n",
       "}\n",
       "\n",
       ".xr-attrs dt {\n",
       "  font-weight: normal;\n",
       "  grid-column: 1;\n",
       "}\n",
       "\n",
       ".xr-attrs dt:hover span {\n",
       "  display: inline-block;\n",
       "  background: var(--xr-background-color);\n",
       "  padding-right: 10px;\n",
       "}\n",
       "\n",
       ".xr-attrs dd {\n",
       "  grid-column: 2;\n",
       "  white-space: pre-wrap;\n",
       "  word-break: break-all;\n",
       "}\n",
       "\n",
       ".xr-icon-database,\n",
       ".xr-icon-file-text2 {\n",
       "  display: inline-block;\n",
       "  vertical-align: middle;\n",
       "  width: 1em;\n",
       "  height: 1.5em !important;\n",
       "  stroke-width: 0;\n",
       "  stroke: currentColor;\n",
       "  fill: currentColor;\n",
       "}\n",
       "</style><pre class='xr-text-repr-fallback'>&lt;xarray.Dataset&gt;\n",
       "Dimensions:  (lat: 4320, lon: 8640, rgb: 3, eightbitcolor: 256)\n",
       "Coordinates:\n",
       "  * lat      (lat) float32 89.98 89.94 89.9 89.85 ... -89.85 -89.9 -89.94 -89.98\n",
       "  * lon      (lon) float32 -180.0 -179.9 -179.9 -179.9 ... 179.9 179.9 180.0\n",
       "Dimensions without coordinates: rgb, eightbitcolor\n",
       "Data variables:\n",
       "    chlor_a  (lat, lon) float32 ...\n",
       "    palette  (rgb, eightbitcolor) uint8 147 0 108 144 0 111 ... 105 0 0 0 0 0\n",
       "Attributes: (12/63)\n",
       "    product_name:                      A2022185.L3m_DAY_CHL_chlor_a_4km.nc\n",
       "    instrument:                        MODIS\n",
       "    title:                             MODISA Level-3 Standard Mapped Image\n",
       "    project:                           Ocean Biology Processing Group (NASA/G...\n",
       "    platform:                          Aqua\n",
       "    temporal_range:                    day\n",
       "    ...                                ...\n",
       "    identifier_product_doi:            10.5067/AQUA/MODIS/L3M/CHL/2018\n",
       "    keywords:                          Earth Science &gt; Oceans &gt; Ocean Chemist...\n",
       "    keywords_vocabulary:               NASA Global Change Master Directory (G...\n",
       "    data_bins:                         2113263\n",
       "    data_minimum:                      0.0087185865\n",
       "    data_maximum:                      99.204636</pre><div class='xr-wrap' hidden><div class='xr-header'><div class='xr-obj-type'>xarray.Dataset</div></div><ul class='xr-sections'><li class='xr-section-item'><input id='section-c15c44da-ca76-4304-82fa-cdfd9c1b58af' class='xr-section-summary-in' type='checkbox' disabled ><label for='section-c15c44da-ca76-4304-82fa-cdfd9c1b58af' class='xr-section-summary'  title='Expand/collapse section'>Dimensions:</label><div class='xr-section-inline-details'><ul class='xr-dim-list'><li><span class='xr-has-index'>lat</span>: 4320</li><li><span class='xr-has-index'>lon</span>: 8640</li><li><span>rgb</span>: 3</li><li><span>eightbitcolor</span>: 256</li></ul></div><div class='xr-section-details'></div></li><li class='xr-section-item'><input id='section-231bd309-e1fd-4e60-992e-8923aab29b29' class='xr-section-summary-in' type='checkbox'  checked><label for='section-231bd309-e1fd-4e60-992e-8923aab29b29' class='xr-section-summary' >Coordinates: <span>(2)</span></label><div class='xr-section-inline-details'></div><div class='xr-section-details'><ul class='xr-var-list'><li class='xr-var-item'><div class='xr-var-name'><span class='xr-has-index'>lat</span></div><div class='xr-var-dims'>(lat)</div><div class='xr-var-dtype'>float32</div><div class='xr-var-preview xr-preview'>89.98 89.94 89.9 ... -89.94 -89.98</div><input id='attrs-dc20b31f-b374-461a-b23a-b2e6373acec7' class='xr-var-attrs-in' type='checkbox' ><label for='attrs-dc20b31f-b374-461a-b23a-b2e6373acec7' title='Show/Hide attributes'><svg class='icon xr-icon-file-text2'><use xlink:href='#icon-file-text2'></use></svg></label><input id='data-ccc008ad-4da1-49fd-8ff6-1df8b6604873' class='xr-var-data-in' type='checkbox'><label for='data-ccc008ad-4da1-49fd-8ff6-1df8b6604873' title='Show/Hide data repr'><svg class='icon xr-icon-database'><use xlink:href='#icon-database'></use></svg></label><div class='xr-var-attrs'><dl class='xr-attrs'><dt><span>long_name :</span></dt><dd>Latitude</dd><dt><span>units :</span></dt><dd>degrees_north</dd><dt><span>standard_name :</span></dt><dd>latitude</dd><dt><span>valid_min :</span></dt><dd>-90.0</dd><dt><span>valid_max :</span></dt><dd>90.0</dd></dl></div><div class='xr-var-data'><pre>array([ 89.979164,  89.9375  ,  89.895836, ..., -89.895836, -89.93751 ,\n",
       "       -89.97917 ], dtype=float32)</pre></div></li><li class='xr-var-item'><div class='xr-var-name'><span class='xr-has-index'>lon</span></div><div class='xr-var-dims'>(lon)</div><div class='xr-var-dtype'>float32</div><div class='xr-var-preview xr-preview'>-180.0 -179.9 ... 179.9 180.0</div><input id='attrs-6b3c6abc-9d08-400a-a71a-b1e23e808597' class='xr-var-attrs-in' type='checkbox' ><label for='attrs-6b3c6abc-9d08-400a-a71a-b1e23e808597' title='Show/Hide attributes'><svg class='icon xr-icon-file-text2'><use xlink:href='#icon-file-text2'></use></svg></label><input id='data-c63cde9d-b548-46fc-990e-cb063f2d5b4b' class='xr-var-data-in' type='checkbox'><label for='data-c63cde9d-b548-46fc-990e-cb063f2d5b4b' title='Show/Hide data repr'><svg class='icon xr-icon-database'><use xlink:href='#icon-database'></use></svg></label><div class='xr-var-attrs'><dl class='xr-attrs'><dt><span>long_name :</span></dt><dd>Longitude</dd><dt><span>units :</span></dt><dd>degrees_east</dd><dt><span>standard_name :</span></dt><dd>longitude</dd><dt><span>valid_min :</span></dt><dd>-180.0</dd><dt><span>valid_max :</span></dt><dd>180.0</dd></dl></div><div class='xr-var-data'><pre>array([-179.97917, -179.9375 , -179.89583, ...,  179.89584,  179.93752,\n",
       "        179.97917], dtype=float32)</pre></div></li></ul></div></li><li class='xr-section-item'><input id='section-4e201bba-7058-4d65-aae6-d2a13c63bda5' class='xr-section-summary-in' type='checkbox'  checked><label for='section-4e201bba-7058-4d65-aae6-d2a13c63bda5' class='xr-section-summary' >Data variables: <span>(2)</span></label><div class='xr-section-inline-details'></div><div class='xr-section-details'><ul class='xr-var-list'><li class='xr-var-item'><div class='xr-var-name'><span>chlor_a</span></div><div class='xr-var-dims'>(lat, lon)</div><div class='xr-var-dtype'>float32</div><div class='xr-var-preview xr-preview'>...</div><input id='attrs-dd9b6345-db14-4abc-872e-786d5e57cf5a' class='xr-var-attrs-in' type='checkbox' ><label for='attrs-dd9b6345-db14-4abc-872e-786d5e57cf5a' title='Show/Hide attributes'><svg class='icon xr-icon-file-text2'><use xlink:href='#icon-file-text2'></use></svg></label><input id='data-f8d7866b-14fa-4a33-ac41-3715b0050300' class='xr-var-data-in' type='checkbox'><label for='data-f8d7866b-14fa-4a33-ac41-3715b0050300' title='Show/Hide data repr'><svg class='icon xr-icon-database'><use xlink:href='#icon-database'></use></svg></label><div class='xr-var-attrs'><dl class='xr-attrs'><dt><span>long_name :</span></dt><dd>Chlorophyll Concentration, OCI Algorithm</dd><dt><span>units :</span></dt><dd>mg m^-3</dd><dt><span>standard_name :</span></dt><dd>mass_concentration_of_chlorophyll_in_sea_water</dd><dt><span>valid_min :</span></dt><dd>0.001</dd><dt><span>valid_max :</span></dt><dd>100.0</dd><dt><span>reference :</span></dt><dd>Hu, C., Lee Z., and Franz, B.A. (2012). Chlorophyll-a algorithms for oligotrophic oceans: A novel approach based on three-band reflectance difference, J. Geophys. Res., 117, C01011, doi:10.1029/2011JC007395.</dd><dt><span>display_scale :</span></dt><dd>log</dd><dt><span>display_min :</span></dt><dd>0.01</dd><dt><span>display_max :</span></dt><dd>20.0</dd></dl></div><div class='xr-var-data'><pre>[37324800 values with dtype=float32]</pre></div></li><li class='xr-var-item'><div class='xr-var-name'><span>palette</span></div><div class='xr-var-dims'>(rgb, eightbitcolor)</div><div class='xr-var-dtype'>uint8</div><div class='xr-var-preview xr-preview'>...</div><input id='attrs-2642aba5-02f3-4b3e-bcf2-4d1584ffcf36' class='xr-var-attrs-in' type='checkbox' disabled><label for='attrs-2642aba5-02f3-4b3e-bcf2-4d1584ffcf36' title='Show/Hide attributes'><svg class='icon xr-icon-file-text2'><use xlink:href='#icon-file-text2'></use></svg></label><input id='data-8491e8ab-cf0b-431c-bc4e-b4f1ba05b7f7' class='xr-var-data-in' type='checkbox'><label for='data-8491e8ab-cf0b-431c-bc4e-b4f1ba05b7f7' title='Show/Hide data repr'><svg class='icon xr-icon-database'><use xlink:href='#icon-database'></use></svg></label><div class='xr-var-attrs'><dl class='xr-attrs'></dl></div><div class='xr-var-data'><pre>array([[147,   0, 108, ..., 186, 255,   0],\n",
       "       [192, 255,   0, ...,   0, 255, 215],\n",
       "       [  0, 255, 211, ...,   0,   0,   0]], dtype=uint8)</pre></div></li></ul></div></li><li class='xr-section-item'><input id='section-9c60b7c6-eeae-4527-8098-06589d95233b' class='xr-section-summary-in' type='checkbox'  ><label for='section-9c60b7c6-eeae-4527-8098-06589d95233b' class='xr-section-summary' >Attributes: <span>(63)</span></label><div class='xr-section-inline-details'></div><div class='xr-section-details'><dl class='xr-attrs'><dt><span>product_name :</span></dt><dd>A2022185.L3m_DAY_CHL_chlor_a_4km.nc</dd><dt><span>instrument :</span></dt><dd>MODIS</dd><dt><span>title :</span></dt><dd>MODISA Level-3 Standard Mapped Image</dd><dt><span>project :</span></dt><dd>Ocean Biology Processing Group (NASA/GSFC/OBPG)</dd><dt><span>platform :</span></dt><dd>Aqua</dd><dt><span>temporal_range :</span></dt><dd>day</dd><dt><span>processing_version :</span></dt><dd>2018.1QLP</dd><dt><span>date_created :</span></dt><dd>2022-07-05T06:29:47.000Z</dd><dt><span>history :</span></dt><dd>l3mapgen par=A2022185.L3m_DAY_CHL_chlor_a_4km.nc.param </dd><dt><span>l2_flag_names :</span></dt><dd>ATMFAIL,LAND,HILT,HISATZEN,STRAYLIGHT,CLDICE,COCCOLITH,LOWLW,CHLWARN,CHLFAIL,NAVWARN,MAXAERITER,ATMWARN,HISOLZEN,NAVFAIL,FILTER,HIGLINT</dd><dt><span>time_coverage_start :</span></dt><dd>2022-07-04T00:45:01.000Z</dd><dt><span>time_coverage_end :</span></dt><dd>2022-07-05T02:54:58.000Z</dd><dt><span>start_orbit_number :</span></dt><dd>107308</dd><dt><span>end_orbit_number :</span></dt><dd>107324</dd><dt><span>map_projection :</span></dt><dd>Equidistant Cylindrical</dd><dt><span>latitude_units :</span></dt><dd>degrees_north</dd><dt><span>longitude_units :</span></dt><dd>degrees_east</dd><dt><span>northernmost_latitude :</span></dt><dd>90.0</dd><dt><span>southernmost_latitude :</span></dt><dd>-90.0</dd><dt><span>westernmost_longitude :</span></dt><dd>-180.0</dd><dt><span>easternmost_longitude :</span></dt><dd>180.0</dd><dt><span>geospatial_lat_max :</span></dt><dd>90.0</dd><dt><span>geospatial_lat_min :</span></dt><dd>-90.0</dd><dt><span>geospatial_lon_max :</span></dt><dd>180.0</dd><dt><span>geospatial_lon_min :</span></dt><dd>-180.0</dd><dt><span>latitude_step :</span></dt><dd>0.041666668</dd><dt><span>longitude_step :</span></dt><dd>0.041666668</dd><dt><span>sw_point_latitude :</span></dt><dd>-89.979164</dd><dt><span>sw_point_longitude :</span></dt><dd>-179.97917</dd><dt><span>spatialResolution :</span></dt><dd>4.64 km</dd><dt><span>geospatial_lon_resolution :</span></dt><dd>0.041666668</dd><dt><span>geospatial_lat_resolution :</span></dt><dd>0.041666668</dd><dt><span>geospatial_lat_units :</span></dt><dd>degrees_north</dd><dt><span>geospatial_lon_units :</span></dt><dd>degrees_east</dd><dt><span>number_of_lines :</span></dt><dd>4320</dd><dt><span>number_of_columns :</span></dt><dd>8640</dd><dt><span>measure :</span></dt><dd>Mean</dd><dt><span>suggested_image_scaling_minimum :</span></dt><dd>0.01</dd><dt><span>suggested_image_scaling_maximum :</span></dt><dd>20.0</dd><dt><span>suggested_image_scaling_type :</span></dt><dd>LOG</dd><dt><span>suggested_image_scaling_applied :</span></dt><dd>No</dd><dt><span>_lastModified :</span></dt><dd>2022-07-05T06:29:47.000Z</dd><dt><span>Conventions :</span></dt><dd>CF-1.6 ACDD-1.3</dd><dt><span>institution :</span></dt><dd>NASA Goddard Space Flight Center, Ocean Ecology Laboratory, Ocean Biology Processing Group</dd><dt><span>standard_name_vocabulary :</span></dt><dd>CF Standard Name Table v36</dd><dt><span>naming_authority :</span></dt><dd>gov.nasa.gsfc.sci.oceandata</dd><dt><span>id :</span></dt><dd>A2022185.L3b_DAY_CHL.nc/L3/A2022185.L3b_DAY_CHL.nc</dd><dt><span>license :</span></dt><dd>https://science.nasa.gov/earth-science/earth-science-data/data-information-policy/</dd><dt><span>creator_name :</span></dt><dd>NASA/GSFC/OBPG</dd><dt><span>publisher_name :</span></dt><dd>NASA/GSFC/OBPG</dd><dt><span>creator_email :</span></dt><dd>data@oceancolor.gsfc.nasa.gov</dd><dt><span>publisher_email :</span></dt><dd>data@oceancolor.gsfc.nasa.gov</dd><dt><span>creator_url :</span></dt><dd>https://oceandata.sci.gsfc.nasa.gov</dd><dt><span>publisher_url :</span></dt><dd>https://oceandata.sci.gsfc.nasa.gov</dd><dt><span>processing_level :</span></dt><dd>L3 Mapped</dd><dt><span>cdm_data_type :</span></dt><dd>grid</dd><dt><span>identifier_product_doi_authority :</span></dt><dd>http://dx.doi.org</dd><dt><span>identifier_product_doi :</span></dt><dd>10.5067/AQUA/MODIS/L3M/CHL/2018</dd><dt><span>keywords :</span></dt><dd>Earth Science &gt; Oceans &gt; Ocean Chemistry &gt; Pigments &gt; Chlorophyll; Earth Science &gt; Oceans &gt; Ocean Chemistry &gt; Chlorophyllr</dd><dt><span>keywords_vocabulary :</span></dt><dd>NASA Global Change Master Directory (GCMD) Science Keywords</dd><dt><span>data_bins :</span></dt><dd>2113263</dd><dt><span>data_minimum :</span></dt><dd>0.0087185865</dd><dt><span>data_maximum :</span></dt><dd>99.204636</dd></dl></div></li></ul></div></div>"
      ],
      "text/plain": [
       "<xarray.Dataset>\n",
       "Dimensions:  (lat: 4320, lon: 8640, rgb: 3, eightbitcolor: 256)\n",
       "Coordinates:\n",
       "  * lat      (lat) float32 89.98 89.94 89.9 89.85 ... -89.85 -89.9 -89.94 -89.98\n",
       "  * lon      (lon) float32 -180.0 -179.9 -179.9 -179.9 ... 179.9 179.9 180.0\n",
       "Dimensions without coordinates: rgb, eightbitcolor\n",
       "Data variables:\n",
       "    chlor_a  (lat, lon) float32 ...\n",
       "    palette  (rgb, eightbitcolor) uint8 ...\n",
       "Attributes: (12/63)\n",
       "    product_name:                      A2022185.L3m_DAY_CHL_chlor_a_4km.nc\n",
       "    instrument:                        MODIS\n",
       "    title:                             MODISA Level-3 Standard Mapped Image\n",
       "    project:                           Ocean Biology Processing Group (NASA/G...\n",
       "    platform:                          Aqua\n",
       "    temporal_range:                    day\n",
       "    ...                                ...\n",
       "    identifier_product_doi:            10.5067/AQUA/MODIS/L3M/CHL/2018\n",
       "    keywords:                          Earth Science > Oceans > Ocean Chemist...\n",
       "    keywords_vocabulary:               NASA Global Change Master Directory (G...\n",
       "    data_bins:                         2113263\n",
       "    data_minimum:                      0.0087185865\n",
       "    data_maximum:                      99.204636"
      ]
     },
     "execution_count": 5,
     "metadata": {},
     "output_type": "execute_result"
    }
   ],
   "source": [
    "# what does this data look like?\n",
    "data"
   ]
  },
  {
   "cell_type": "markdown",
   "id": "8a93f0ec",
   "metadata": {},
   "source": [
    "### Plotting the entire area\n",
    "\n",
    "When we first open data, it can sometimes be useful to plot the entire area. This may give us an idea of what the data looks like or any areas of interest."
   ]
  },
  {
   "cell_type": "code",
   "execution_count": 6,
   "id": "49e676c9",
   "metadata": {},
   "outputs": [],
   "source": [
    "# the data of interest\n",
    "chlor = data['chlor_a']"
   ]
  },
  {
   "cell_type": "code",
   "execution_count": 7,
   "id": "38b87483",
   "metadata": {},
   "outputs": [
    {
     "data": {
      "image/png": "[encoded data removed]",
      "text/plain": [
       "<Figure size 432x288 with 2 Axes>"
      ]
     },
     "metadata": {
      "needs_background": "light"
     },
     "output_type": "display_data"
    }
   ],
   "source": [
    "# xarray has a built-in interface with matplotlib plotting libraries\n",
    "chlor.plot()\n",
    "plt.show()"
   ]
  },
  {
   "cell_type": "markdown",
   "id": "4ee85bd9",
   "metadata": {},
   "source": [
    "This is a pretty bad figure, but we can get some basic information from it. First, everything seems really patchy. Why is that?"
   ]
  },
  {
   "cell_type": "markdown",
   "id": "bf603409",
   "metadata": {},
   "source": [
    "**Knowledge Check:** Why are there so many empty spaces in the figure above? What does this have to do with how satellites collect data and with the type of data we are using?"
   ]
  },
  {
   "cell_type": "markdown",
   "id": "79358783",
   "metadata": {},
   "source": [
    "The data we are using comes from the Aqua polar-orbiting satellite. Polar orbiting satellites produce data in swaths, or stripes across the globe. That is why the purple areas on our map look like broken-up stripes. The instrument that is collecting the data, MODIS, is collecting visible reflectance data to measure chlorophyll. This means that there is only data in areas where the instrument can get reflected light from the surface. The date of the data is during northern hemisphere summer, which means southern hemisphere winter. During the winter, the poles receive little to no sunlight, so there is minimal reflectance that can occur. Finally, some of the blank areas in the middle of the map happen because of land masses! We are looking at a processed chlorophyll-a data product, which means that someone has created a program to only look at chlorophyll-a over the water, not on land. Can you identify any landmasses in the map?"
   ]
  },
  {
   "cell_type": "markdown",
   "id": "6181c935",
   "metadata": {},
   "source": [
    "### Selecting areas on a map"
   ]
  },
  {
   "cell_type": "markdown",
   "id": "4691c83e",
   "metadata": {},
   "source": [
    "Now that we've looked at the entire dataset area, we can zoom in on a particular section. There are a few ways to do this, but we'll practice the easiest first."
   ]
  },
  {
   "cell_type": "markdown",
   "id": "82cffd35",
   "metadata": {},
   "source": [
    "The easiest method to zoom into an area on a map is to only plot that area with cartopy. This is fast and useful for making a map for presentations, but there are some downsides.   \n",
    "* First, this method does not remove the rest of the data, it just hides it from our view. If you wanted to find the average chlorophyll-a concentration in the zoomed in area, you could not calculate it from the map because the rest of the data actually still exists.    \n",
    "* Second, outliers in the data outside the zoomed in area might affect the colorbar scale of the displayed map. So you could have a map area with concentrations all below 20 mg/m$^{3}$, but a larger concentration elsewhere in the dataset will skew the colorbar scale and you won't be able to see the low concentrations clearly.   \n",
    "* Finally, for really big datasets, it might take a while to plot. You're still technically plotting all the data, it just isn't displayed in the figure area. So if the dataset is really big, you're wasting time plotting data that you don't actually see. "
   ]
  },
  {
   "cell_type": "code",
   "execution_count": null,
   "id": "0cbc8267",
   "metadata": {},
   "outputs": [],
   "source": [
    "# use a specialty colormap for algae\n",
    "cmap = cmocean.cm.algae"
   ]
  },
  {
   "cell_type": "code",
   "execution_count": null,
   "id": "d34905b2",
   "metadata": {},
   "outputs": [],
   "source": [
    "# select lat and lon region of interest\n",
    "# use the map created above to start zooming in on an area that has a lot of purple coverage\n",
    "# the area of purple coverage might be different than the lats and lons here if you chose a different date\n",
    "latmin = 37\n",
    "latmax = 45\n",
    "lonmin = -65\n",
    "lonmax = -75"
   ]
  },
  {
   "cell_type": "code",
   "execution_count": null,
   "id": "78984586",
   "metadata": {},
   "outputs": [],
   "source": [
    "# set the extents of our box\n",
    "extent = [lonmin,lonmax,latmin,latmax]"
   ]
  },
  {
   "cell_type": "code",
   "execution_count": null,
   "id": "8a84bb2d",
   "metadata": {},
   "outputs": [],
   "source": [
    "# select map projection - do you remember what this is for this dataset?\n",
    "proj = crs.PlateCarree()"
   ]
  },
  {
   "cell_type": "code",
   "execution_count": null,
   "id": "57c39f90",
   "metadata": {},
   "outputs": [],
   "source": [
    "# in order to plot a subset of the data on the map, we must make a grid of the coordinates\n",
    "# first, get a list of each coordinate\n",
    "lats = chlor['lat']\n",
    "lons = chlor['lon']\n",
    "\n",
    "# then make a grid\n",
    "XX,YY = np.meshgrid(lons,lats)"
   ]
  },
  {
   "cell_type": "code",
   "execution_count": null,
   "id": "8819b435",
   "metadata": {},
   "outputs": [],
   "source": [
    "# create a pyplot figure\n",
    "fig = plt.figure(figsize=(8,10))\n",
    "# create a new axes instance with the map information\n",
    "ax = fig.add_subplot(1,1,1,projection=proj)\n",
    "ax.set_extent(extent)\n",
    "# add gridlines\n",
    "gl = ax.gridlines(crs.PlateCarree(),draw_labels=True,linewidth=1,color='gray',alpha=0.5,linestyle='--')\n",
    "# add features\n",
    "ax.add_feature(feature.STATES)\n",
    "ax.add_feature(feature.RIVERS)\n",
    "im = plt.contourf(XX,YY,chlor,cmap=cmap,transform=proj)\n",
    "plt.colorbar(im,orientation='horizontal',label='Chlorophyll-a concentration (mg/m$^{3}$)')\n",
    "plt.show()"
   ]
  },
  {
   "cell_type": "markdown",
   "id": "3d79a495",
   "metadata": {},
   "source": [
    "What do you notice about this figure? What about the colorbar scale? What could make this figure better?"
   ]
  },
  {
   "cell_type": "markdown",
   "id": "c59bac5a",
   "metadata": {},
   "source": [
    "The figure above has a colorbar scale that goes from 0 to 105 mg/m$^{3}$, even though the data in the figure does not seem to go this high. This is one of the problems with this plotting method. Your colorbar scale may be different if you used a different date of data."
   ]
  },
  {
   "cell_type": "markdown",
   "id": "d5811cbd",
   "metadata": {},
   "source": [
    "Instead of plotting all the data but hiding most of it, we can instead select a subsection of the data using slicing. This method takes a few more steps because you need to know the area of interest. However, there are several benefits such as being able to really focus on the actual area of interest. "
   ]
  },
  {
   "cell_type": "code",
   "execution_count": null,
   "id": "4680a74e",
   "metadata": {},
   "outputs": [],
   "source": [
    "# identify the map area extent\n",
    "latmin = 37\n",
    "latmax = 45\n",
    "lonmin = -65\n",
    "lonmax = -75"
   ]
  },
  {
   "cell_type": "code",
   "execution_count": null,
   "id": "a1755d05",
   "metadata": {},
   "outputs": [],
   "source": [
    "# slice the data using these limits\n",
    "subset = chlor.sel(lat=slice(latmax,latmin),lon=slice(lonmax,lonmin))"
   ]
  },
  {
   "cell_type": "code",
   "execution_count": null,
   "id": "0f302d37",
   "metadata": {},
   "outputs": [],
   "source": [
    "# check out the data and the change in dimensions\n",
    "subset"
   ]
  },
  {
   "cell_type": "code",
   "execution_count": null,
   "id": "304546a1",
   "metadata": {},
   "outputs": [],
   "source": [
    "# set the extents of our box\n",
    "extent = [lonmin,lonmax,latmin,latmax]\n",
    "# select map projection\n",
    "proj = crs.PlateCarree()"
   ]
  },
  {
   "cell_type": "code",
   "execution_count": null,
   "id": "f25b57bd",
   "metadata": {},
   "outputs": [],
   "source": [
    "# in order to plot a subset of the data on the map, we must make a grid of the coordinates\n",
    "# first, get a list of each coordinate\n",
    "lats = subset['lat']\n",
    "lons = subset['lon']\n",
    "\n",
    "# then make a grid\n",
    "XX,YY = np.meshgrid(lons,lats)"
   ]
  },
  {
   "cell_type": "code",
   "execution_count": null,
   "id": "ed629183",
   "metadata": {},
   "outputs": [],
   "source": [
    "# create a pyplot figure\n",
    "fig = plt.figure(figsize=(8,10))\n",
    "# create a new axes instance with the map information\n",
    "ax = fig.add_subplot(1,1,1,projection=proj)\n",
    "ax.set_extent(extent)\n",
    "# add gridlines\n",
    "gl = ax.gridlines(crs.PlateCarree(),draw_labels=True,linewidth=1,color='gray',alpha=0.5,linestyle='--')\n",
    "# add features\n",
    "ax.add_feature(feature.STATES)\n",
    "ax.add_feature(feature.RIVERS)\n",
    "im = plt.contourf(XX,YY,subset,cmap=cmap,transform=proj)\n",
    "plt.colorbar(im,orientation='horizontal',label='Chlorophyll-a concentration (mg/m$^{3}$)')\n",
    "plt.show()"
   ]
  },
  {
   "cell_type": "markdown",
   "id": "478bf816",
   "metadata": {},
   "source": [
    "The colorbar scale on this figure is a little better, and the code cell also ran a lot faster. However, this is still not great. Let's try changing the colorbar a little to make the figure more appealing."
   ]
  },
  {
   "cell_type": "markdown",
   "id": "4c93c725",
   "metadata": {},
   "source": [
    "Before modifying the colorbar or the data, let's first analyze this subset of data to figure out the range (min and max) that we're working with."
   ]
  },
  {
   "cell_type": "code",
   "execution_count": null,
   "id": "221ef2b5",
   "metadata": {},
   "outputs": [],
   "source": [
    "subset.min()"
   ]
  },
  {
   "cell_type": "code",
   "execution_count": null,
   "id": "1da57673",
   "metadata": {},
   "outputs": [],
   "source": [
    "subset.max()"
   ]
  },
  {
   "cell_type": "markdown",
   "id": "4070014c",
   "metadata": {},
   "source": [
    "**Knowledge Check:** Based on the two code cells above, and your experience with pandas, how would you find the mean of the subset data?"
   ]
  },
  {
   "cell_type": "code",
   "execution_count": null,
   "id": "905a3ef3",
   "metadata": {},
   "outputs": [],
   "source": [
    "# mean of subset\n"
   ]
  },
  {
   "cell_type": "markdown",
   "id": "356f736d",
   "metadata": {},
   "source": [
    "To find the mean, use `subset.mean()`."
   ]
  },
  {
   "cell_type": "markdown",
   "id": "8964ef75",
   "metadata": {},
   "source": [
    "The range 0.04 mg/m$^{3}$ to 86 mg/m$^{3}$ is really large. One possibility to plot this data better is to use a log scale on the colorbar, rather than a linear scale. Again, your range may vary if you selected a different date of data to work with. "
   ]
  },
  {
   "cell_type": "code",
   "execution_count": null,
   "id": "86a3eac7",
   "metadata": {},
   "outputs": [],
   "source": [
    "# to make a log scale, we change the normalization, or norm, of the colorbar scale\n",
    "import matplotlib.colors as colors\n",
    "norm = colors.LogNorm(vmin=subset.min(), vmax=subset.max())"
   ]
  },
  {
   "cell_type": "code",
   "execution_count": null,
   "id": "ff0749cc",
   "metadata": {},
   "outputs": [],
   "source": [
    "# create a pyplot figure\n",
    "fig = plt.figure(figsize=(8,10))\n",
    "# create a new axes instance with the map information\n",
    "ax = fig.add_subplot(1,1,1,projection=proj)\n",
    "ax.set_extent(extent)\n",
    "# add gridlines\n",
    "gl = ax.gridlines(crs.PlateCarree(),draw_labels=True,linewidth=1,color='gray',alpha=0.5,linestyle='--')\n",
    "# add features\n",
    "ax.add_feature(feature.STATES)\n",
    "ax.add_feature(feature.RIVERS)\n",
    "im = plt.contourf(XX,YY,subset,cmap=cmap,norm=norm,transform=proj)\n",
    "plt.colorbar(im,orientation='horizontal',label='Chlorophyll-a concentration (mg/m$^{3}$)')\n",
    "plt.show()"
   ]
  },
  {
   "cell_type": "markdown",
   "id": "78ff820c",
   "metadata": {},
   "source": [
    "This figure is somewhat better. It is possible to distinguish between different regions of chlorophyll concentrations, but it is hard to tell the concentrations apart within those big chunks. What do you notice about the spatial distribution of the areas with high concentration compared to the areas with low concentration? In other words, which areas on the map tend to have the darkest color, and which areas tend to have the lightest color? "
   ]
  },
  {
   "cell_type": "markdown",
   "id": "755b0f2e",
   "metadata": {},
   "source": [
    "The real issue with the data we are plotting is that we are trying to plot two different types of algae regions on one figure: the open ocean which has lower concentrationss and the coastal areas which have much higher concentrations. What we really need to do is focus in on one or the other."
   ]
  },
  {
   "cell_type": "markdown",
   "id": "97d7eb6e",
   "metadata": {},
   "source": [
    "In order to focus our data a little better, we can set limits of Chlorophyll-a concentration, where above the limit means coastal area and below the concentration means open ocean. Based on the figure above, what do you think could be the cut-off limits?"
   ]
  },
  {
   "cell_type": "code",
   "execution_count": null,
   "id": "047dbb42",
   "metadata": {},
   "outputs": [],
   "source": [
    "# set a cut-off limit here\n",
    "cut_off = 2"
   ]
  },
  {
   "cell_type": "code",
   "execution_count": null,
   "id": "295615dc",
   "metadata": {},
   "outputs": [],
   "source": [
    "coastal = subset.where(subset>=cut_off)\n",
    "ocean = subset.where(subset<cut_off)"
   ]
  },
  {
   "cell_type": "code",
   "execution_count": null,
   "id": "b4e1fc65",
   "metadata": {},
   "outputs": [],
   "source": [
    "# create a pyplot figure\n",
    "fig = plt.figure(figsize=(8,10))\n",
    "# create a new axes instance with the map information\n",
    "ax = fig.add_subplot(1,1,1,projection=proj)\n",
    "ax.set_extent(extent)\n",
    "# add gridlines\n",
    "gl = ax.gridlines(crs.PlateCarree(),draw_labels=True,linewidth=1,color='gray',alpha=0.5,linestyle='--')\n",
    "# add features\n",
    "ax.add_feature(feature.STATES)\n",
    "ax.add_feature(feature.RIVERS)\n",
    "im = plt.contourf(XX,YY,ocean,cmap=cmap,transform=proj)\n",
    "plt.colorbar(im,orientation='horizontal',label='Chlorophyll-a concentration (mg/m$^{3}$)')\n",
    "plt.show()"
   ]
  },
  {
   "cell_type": "markdown",
   "id": "25db93c1",
   "metadata": {},
   "source": [
    "Play around with the cut-off value. You'll notice that the area and colorbar of the ocean data changes as you change the cut-off value. What do you think will happen with the coastal region?"
   ]
  },
  {
   "cell_type": "markdown",
   "id": "cd8f86a7",
   "metadata": {},
   "source": [
    "### Exercises"
   ]
  },
  {
   "cell_type": "markdown",
   "id": "268b4afd",
   "metadata": {},
   "source": [
    "**1.** Make a figure of the coastal region from the data above! This problem will walk you through several steps.   \n",
    "a) Plot the data for the coastal region using a cut-off you select."
   ]
  },
  {
   "cell_type": "code",
   "execution_count": null,
   "id": "2eda2003",
   "metadata": {},
   "outputs": [],
   "source": []
  },
  {
   "cell_type": "markdown",
   "id": "34cd2e22",
   "metadata": {},
   "source": [
    "b) Based on your plot, where is the important coastal data located? Zoom in on this area by creating new lat and lon extents and subselecting the coastal data."
   ]
  },
  {
   "cell_type": "code",
   "execution_count": null,
   "id": "222fc8c7",
   "metadata": {},
   "outputs": [],
   "source": [
    "latmin =\n",
    "latmax =\n",
    "lonmin =\n",
    "lonmax ="
   ]
  },
  {
   "cell_type": "code",
   "execution_count": null,
   "id": "a0817e1b",
   "metadata": {},
   "outputs": [],
   "source": [
    "coastal_subset = "
   ]
  },
  {
   "cell_type": "markdown",
   "id": "62c41b46",
   "metadata": {},
   "source": [
    "c) Plot this new data."
   ]
  },
  {
   "cell_type": "code",
   "execution_count": null,
   "id": "da3ef638",
   "metadata": {},
   "outputs": [],
   "source": []
  },
  {
   "cell_type": "markdown",
   "id": "a26eab3e",
   "metadata": {},
   "source": [
    "**2.** Download a different type of data from NASA EarthData. Remember to use L3 data! Any single day of data will work. Select the variable of interest. Create a global map of the data using `var.plot()`.   "
   ]
  },
  {
   "cell_type": "code",
   "execution_count": null,
   "id": "ab233407",
   "metadata": {},
   "outputs": [],
   "source": []
  },
  {
   "cell_type": "markdown",
   "id": "5a442fd1",
   "metadata": {},
   "source": [
    "**3.** Using the new data that you downloaded in question 2, zoom in on a region of interest to use and plot this region with a cartopy map background. Find the minimum, maximum, and mean of the data in this zoomed-in region. "
   ]
  },
  {
   "cell_type": "code",
   "execution_count": null,
   "id": "55d25336",
   "metadata": {},
   "outputs": [],
   "source": []
  },
  {
   "cell_type": "markdown",
   "id": "c803fe18",
   "metadata": {},
   "source": [
    "### Possible Solutions"
   ]
  },
  {
   "cell_type": "code",
   "execution_count": null,
   "id": "4417b31c",
   "metadata": {},
   "outputs": [],
   "source": [
    "# 1a\n",
    "cut_off = 5\n",
    "coastal = subset.where(subset>=cut_off)\n",
    "ocean = subset.where(subset<cut_off)\n",
    "\n",
    "latmin = 37\n",
    "latmax = 45\n",
    "lonmin = -65\n",
    "lonmax = -75\n",
    "extent = [lonmin,lonmax,latmin,latmax]\n",
    "# get the lat lon grid\n",
    "XX,YY = np.meshgrid(coastal['lon'],coastal['lat'])\n",
    "\n",
    "fig = plt.figure(figsize=(8,10))\n",
    "# create a new axes instance with the map information\n",
    "ax = fig.add_subplot(1,1,1,projection=proj)\n",
    "ax.set_extent(extent)\n",
    "# add gridlines\n",
    "gl = ax.gridlines(crs.PlateCarree(),draw_labels=True,linewidth=1,color='gray',alpha=0.5,linestyle='--')\n",
    "# add features\n",
    "ax.add_feature(feature.STATES)\n",
    "ax.add_feature(feature.RIVERS)\n",
    "im = plt.contourf(XX,YY,coastal,cmap=cmap,transform=proj)\n",
    "plt.colorbar(im,orientation='horizontal',label='Chlorophyll-a concentration (mg/m$^{3}$)')\n",
    "plt.show()"
   ]
  },
  {
   "cell_type": "code",
   "execution_count": null,
   "id": "800d76d9",
   "metadata": {},
   "outputs": [],
   "source": [
    "# 1b\n",
    "latmin = 40\n",
    "latmax = 42\n",
    "lonmin = -72\n",
    "lonmax = -74.5\n",
    "coastal_subset = coastal.sel(lat=slice(latmax,latmin),lon=slice(lonmax,lonmin))"
   ]
  },
  {
   "cell_type": "code",
   "execution_count": null,
   "id": "9d553125",
   "metadata": {},
   "outputs": [],
   "source": [
    "coastal_subset"
   ]
  },
  {
   "cell_type": "code",
   "execution_count": null,
   "id": "173d4031",
   "metadata": {},
   "outputs": [],
   "source": [
    "# 1c\n",
    "# set the extents of our box\n",
    "extent = [lonmin,lonmax,latmin,latmax]\n",
    "# select map projection\n",
    "proj = crs.PlateCarree()\n",
    "# get the lat lon grid\n",
    "XX,YY = np.meshgrid(coastal_subset['lon'],coastal_subset['lat'])\n",
    "\n",
    "fig = plt.figure(figsize=(8,10))\n",
    "# create a new axes instance with the map information\n",
    "ax = fig.add_subplot(1,1,1,projection=proj)\n",
    "ax.set_extent(extent)\n",
    "# add gridlines\n",
    "gl = ax.gridlines(crs.PlateCarree(),draw_labels=True,linewidth=1,color='gray',alpha=0.5,linestyle='--')\n",
    "# add features\n",
    "ax.add_feature(feature.STATES)\n",
    "ax.add_feature(feature.RIVERS)\n",
    "im = plt.contourf(XX,YY,coastal_subset,cmap=cmap,transform=proj)\n",
    "plt.colorbar(im,orientation='horizontal',label='Chlorophyll-a concentration (mg/m$^{3}$)')\n",
    "plt.show()"
   ]
  },
  {
   "cell_type": "code",
   "execution_count": null,
   "id": "99d8be06",
   "metadata": {},
   "outputs": [],
   "source": []
  }
 ],
 "metadata": {
  "kernelspec": {
   "display_name": "Python 3 (ipykernel)",
   "language": "python",
   "name": "python3"
  },
  "language_info": {
   "codemirror_mode": {
    "name": "ipython",
    "version": 3
   },
   "file_extension": ".py",
   "mimetype": "text/x-python",
   "name": "python",
   "nbconvert_exporter": "python",
   "pygments_lexer": "ipython3",
   "version": "3.9.12"
  }
 },
 "nbformat": 4,
 "nbformat_minor": 5
}
