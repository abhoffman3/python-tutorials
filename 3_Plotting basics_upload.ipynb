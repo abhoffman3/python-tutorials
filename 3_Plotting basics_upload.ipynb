{
 "cells": [
  {
   "cell_type": "markdown",
   "metadata": {},
   "source": [
    "# Tutorial 3: Introduction to Plotting with Matplotlib"
   ]
  },
  {
   "cell_type": "markdown",
   "metadata": {},
   "source": [
    "In the previous module, we learned about data quality control, selection, and manipulation. An important step in each of these tasks is plotting. Sometimes, we want to plot the data before we've done quality control. This can help us see what might be missing from the data or what might be an outlier. Data visualization is also very helpful for checking that we correctly selected or manipulated our data. Once we have out results, we then need to plot the data so that others can see what we've done! For these reasons, and many more, being confident in your ability to plot data is very important in scientific research. \n",
    "\n",
    "In this tutorial, we will get an introduction to working with Matplotlib.pyplot and know how to make line plots from pandas data. By the end of this tutorial, you will be able to: \n",
    "* identify the different components of code necessary for plotting\n",
    "* implement changes to existing code to adapt a plot\n",
    "* analyze error messages and fix code to resolve errors with plotting"
   ]
  },
  {
   "cell_type": "markdown",
   "metadata": {},
   "source": [
    "### What is Matplotlib?"
   ]
  },
  {
   "cell_type": "markdown",
   "metadata": {},
   "source": [
    "Matplotlib is a Python package for plotting and visualization of data. It is not specific to scientific data and plotting, so there are some very cool visualization tools to explore if you want. Here is a list of the plotting techniques available in Matplotlib: https://matplotlib.org/stable/tutorials/introductory/sample_plots.html#sphx-glr-tutorials-introductory-sample-plots-py"
   ]
  },
  {
   "cell_type": "markdown",
   "metadata": {},
   "source": [
    "Within Matplotlib, there are several modules that do different things. *pyplot* does the basic plotting functions, and that is the module we'll be working with in this tutorial. There are other modules for more complex plotting tools. For example, *color* works with with making colorbars, the colorcoding of your figures, and other related color-based commands. You can plot a colorbar using pyplot, but you can't adapt it to suit your needs. Modules like *patches* and *lines* are useful for adding features on top of a figure."
   ]
  },
  {
   "cell_type": "markdown",
   "metadata": {},
   "source": [
    "For this tutorial, we will be working with pandas for data manipulation and Matplotlib.pyplot for data visualization."
   ]
  },
  {
   "cell_type": "markdown",
   "metadata": {},
   "source": [
    "### Data Preparation"
   ]
  },
  {
   "cell_type": "code",
   "execution_count": null,
   "metadata": {},
   "outputs": [],
   "source": [
    "# import packages\n",
    "import pandas as pd\n",
    "import matplotlib.pyplot as plt\n",
    "import numpy as np # just in case\n",
    "import calendar # a built-in python package with all the basic calendar and date information"
   ]
  },
  {
   "cell_type": "code",
   "execution_count": null,
   "metadata": {},
   "outputs": [],
   "source": [
    "# we will work with the full dataset from tutorial 2. This is the same data, but combined into one file.\n",
    "# we can do the same quality control and manipulation we tested out last tutorial.\n",
    "df = pd.read_csv('truax_2019.csv')"
   ]
  },
  {
   "cell_type": "code",
   "execution_count": null,
   "metadata": {},
   "outputs": [],
   "source": [
    "# remember to look at your data first!\n",
    "df.head(10)"
   ]
  },
  {
   "cell_type": "markdown",
   "metadata": {},
   "source": [
    "Let's turn the separate year, month, day, hour columns into a single datetime. This will become our x-data. \n",
    "\n",
    "We can use the loc command like we did in the previous tutorial, and this time we will specify both index and column conditions in .loc[index,column]. Alternatively, we could use the iloc command. This command works slightly differently than loc; iloc requires integer inputs, loc requires string inputs. In other words, loc is label-based and iloc is interger-based. It is easier to use loc when you know the name of the column you want, but when you do not know th name, you can also use iloc. To see how they are used differently, check out the code cell below."
   ]
  },
  {
   "cell_type": "code",
   "execution_count": null,
   "metadata": {},
   "outputs": [],
   "source": [
    "# first, use the loc command to select the columns with date and time. We will use : to specify all indexes\n",
    "# we then select all columns between year and hour using another : and the column names\n",
    "date_sep_loc = df.loc[:,'year':'hour']\n",
    "\n",
    "# now the same thing with iloc\n",
    "date_sep_iloc = df.iloc[:,0:4]\n",
    "\n",
    "print(date_sep_loc.head(10))\n",
    "print(date_sep_iloc.head(10))"
   ]
  },
  {
   "cell_type": "markdown",
   "metadata": {},
   "source": [
    "They look the same to me!"
   ]
  },
  {
   "cell_type": "code",
   "execution_count": null,
   "metadata": {},
   "outputs": [],
   "source": [
    "# next, turn these separate column values into a pandas datetime object\n",
    "datetime = pd.to_datetime(date_sep_loc)\n",
    "\n",
    "# finally, all this back to the original DataFrame\n",
    "df['datetime'] = datetime\n",
    "df.head(10)"
   ]
  },
  {
   "cell_type": "markdown",
   "metadata": {},
   "source": [
    "### Simple Line Plots"
   ]
  },
  {
   "cell_type": "code",
   "execution_count": null,
   "metadata": {},
   "outputs": [],
   "source": [
    "# now let's choose a variable to plot\n",
    "var = 'airtemp_degc' # change the variable here if you want!"
   ]
  },
  {
   "cell_type": "code",
   "execution_count": null,
   "metadata": {},
   "outputs": [],
   "source": [
    "# now we should do our quality control by selecting where our variable is not NaN\n",
    "df_var1 = df.dropna(axis='index',subset=[var])\n",
    "df_var1"
   ]
  },
  {
   "cell_type": "markdown",
   "metadata": {},
   "source": [
    "**Knowledge Check** Why did we create a new DataFrame when removing the NaNs? We could have used inplace=True but didn't. What benefit is there to creating a new DataFrame instead of modifying the original one?"
   ]
  },
  {
   "cell_type": "code",
   "execution_count": null,
   "metadata": {},
   "outputs": [],
   "source": [
    "# let's make a line plot of the data to see how it looks\n",
    "ydata = df_var1[var]\n",
    "xdata = df_var1['datetime']\n",
    "plt.plot(xdata,ydata)                      # this makes a line plot of xdata versus ydata\n",
    "plt.show()"
   ]
  },
  {
   "cell_type": "markdown",
   "metadata": {},
   "source": [
    "How did your plot turn out? Based on what you know of the variable you chose, does the line plot make sense?"
   ]
  },
  {
   "cell_type": "markdown",
   "metadata": {},
   "source": [
    "**Knowledge Check** Go back and select a different variable. Repeat the quality control and plotting steps. Does the line plot still make sense? Do you need to do any more quality control?"
   ]
  },
  {
   "cell_type": "markdown",
   "metadata": {},
   "source": [
    "That plot we made is rather bland. As a check on quality control, it's probably fine. But what if we wanted to present this data or use it in a poster? What do we need to do to make it look fancy?"
   ]
  },
  {
   "cell_type": "code",
   "execution_count": null,
   "metadata": {},
   "outputs": [],
   "source": [
    "plt.plot(xdata,ydata)                      # this makes a line plot of xdata versus ydata\n",
    "plt.xlabel('Date')                         # this adds a label to your x-axis\n",
    "plt.ylabel('Temperature (˚C)')             # y-axis label, change if you selected a different variable\n",
    "plt.title('Hourly Temperature in 2019')    # the title, change if you selected a different variable\n",
    "plt.show()"
   ]
  },
  {
   "cell_type": "markdown",
   "metadata": {},
   "source": [
    "Ok, so that looks a little better. But the size of the figure is really small. And the font size is also small, which can make it hard to see things on a poster or in a presentation."
   ]
  },
  {
   "cell_type": "code",
   "execution_count": null,
   "metadata": {},
   "outputs": [],
   "source": [
    "fig = plt.figure(figsize=(10,8)) # before making the plot, we specify the (width,height) of the whole figure\n",
    "plt.plot(xdata,ydata)                      \n",
    "plt.xlabel('Date', fontsize=14)                         # we specify the fontsize as 14 for the axes labels\n",
    "plt.ylabel('Temperature (˚C)', fontsize=14)\n",
    "plt.xticks(fontsize=12)                                 # the tick markers can also have a set fontsize\n",
    "plt.yticks(fontsize=12)\n",
    "plt.title('Hourly Temperature in 2019', fontsize=18)    # the title is now size 18 font\n",
    "plt.show()"
   ]
  },
  {
   "cell_type": "markdown",
   "metadata": {},
   "source": [
    "Better. This is a figure we could use in a presentation for group meeting. Let's save it so we can present it later."
   ]
  },
  {
   "cell_type": "code",
   "execution_count": null,
   "metadata": {},
   "outputs": [],
   "source": [
    "fig = plt.figure(figsize=(10,8)) \n",
    "plt.plot(xdata,ydata)                      \n",
    "plt.xlabel('Date', fontsize=14)                         \n",
    "plt.ylabel('Temperature (˚C)', fontsize=14)\n",
    "plt.xticks(fontsize=12)                                 \n",
    "plt.yticks(fontsize=12)\n",
    "plt.title('Hourly Temperature in 2019', fontsize=18)\n",
    "plt.savefig('mylineplot.png')  # instead of plt.show(), we used the savefig('filename.filetype') command\n",
    "# you can also save the figure to a different directory by changing the path in savefig('path/filename.filetype')\n",
    "# Note: savefig command MUST come before show() if you write in both. Otherwise, your saved fig will be blank"
   ]
  },
  {
   "cell_type": "markdown",
   "metadata": {},
   "source": [
    "### Plotting Multiple Lines"
   ]
  },
  {
   "cell_type": "markdown",
   "metadata": {},
   "source": [
    "What if we want to compare two variables in the same plot? That's easy! Just plot two lines!"
   ]
  },
  {
   "cell_type": "code",
   "execution_count": null,
   "metadata": {},
   "outputs": [],
   "source": [
    "# let's focus on temperature for now. If you changed the variables above, this code will reset everything.\n",
    "var = 'airtemp_degc'\n",
    "df_var1 = df.dropna(axis='index',subset=[var])\n",
    "\n",
    "# select a second variable\n",
    "var2 = 'dewpoint_degc'\n",
    "# quick quality control\n",
    "df_var2 = df_var1.dropna(axis='index',subset=[var2])    # pay attention to which DataFrame we used!"
   ]
  },
  {
   "cell_type": "code",
   "execution_count": null,
   "metadata": {},
   "outputs": [],
   "source": [
    "# variables for plotting\n",
    "xdata = df_var2['datetime']\n",
    "ydata1 = df_var2[var]\n",
    "ydata2 = df_var2[var2]"
   ]
  },
  {
   "cell_type": "code",
   "execution_count": null,
   "metadata": {},
   "outputs": [],
   "source": [
    "fig = plt.figure(figsize=(10,8)) \n",
    "plt.plot(xdata,ydata1,color='red',label='Temperature (˚C)')         # plot the temperature data in red\n",
    "plt.plot(xdata,ydata2,color='blue',label='Dewpoint (˚C)')           # plot the dewpoint data in blue\n",
    "plt.xlabel('Date', fontsize=14)                         \n",
    "plt.ylabel('Temperature (˚C)', fontsize=14)\n",
    "plt.xticks(fontsize=12)                                 \n",
    "plt.yticks(fontsize=12)\n",
    "plt.title('Hourly Temperature and Dewpoint in 2019', fontsize=18)\n",
    "plt.legend(fontsize=12)                                             # put a legend in the figure\n",
    "plt.show()"
   ]
  },
  {
   "cell_type": "markdown",
   "metadata": {},
   "source": [
    "Nice! This is exciting, we're making presentation-quality plots now! \n",
    "\n",
    "Now that you've made high quality line plots, let's try making a different type of plot. Based on the data that we have (daily data), let's try scatter plots."
   ]
  },
  {
   "cell_type": "code",
   "execution_count": null,
   "metadata": {},
   "outputs": [],
   "source": [
    "# select the data, remove NaNs, and get the x and y data\n",
    "var = 'liqprec_mm'\n",
    "df_var = df.dropna(axis='index',subset=[var])\n",
    "ydata = df_var[var]\n",
    "xdata = df_var['datetime']\n",
    "\n",
    "# make a scatter plot. What do you notice is different about this code compared to plt.plot?\n",
    "fig = plt.figure(figsize=(10,8)) \n",
    "plt.scatter(xdata,ydata,s=10,color='blue',label='Precipitation (mm)')\n",
    "plt.xlabel('Date', fontsize=14)                         \n",
    "plt.ylabel('Accumulated Precipitation (mm)', fontsize=14)\n",
    "plt.xticks(fontsize=12)                                 \n",
    "plt.yticks(fontsize=12)\n",
    "plt.title('Amount of Precipitation in 2019', fontsize=18)\n",
    "plt.legend()\n",
    "plt.show()"
   ]
  },
  {
   "cell_type": "markdown",
   "metadata": {},
   "source": [
    "The scatter command still needs x and y data like plt.plot, but you can also change the size and shape of the dots (did you notice the s=10 argument?). Check out this link: https://matplotlib.org/stable/api/_as_gen/matplotlib.pyplot.scatter.html and this link: https://matplotlib.org/stable/api/markers_api.html. Now try to change the size and shape (and colors!) of the dots on your own!"
   ]
  },
  {
   "cell_type": "markdown",
   "metadata": {},
   "source": [
    "One thing you may have noticed with the scatter plot is that it looks bulky and busy around 0 mm. That is because there are a bunch of dots all overlapping. We can't really see any dots at 0.1 mm because all the 0.0 mm dots cover that information up. Let's do some quality control to remove those 0 mm dots!"
   ]
  },
  {
   "cell_type": "code",
   "execution_count": null,
   "metadata": {},
   "outputs": [],
   "source": [
    "# let's try the loc command to find precip days greater than zero first \n",
    "ydata = df_var.loc[df_var[var]>0.0]\n",
    "ydata"
   ]
  },
  {
   "cell_type": "code",
   "execution_count": null,
   "metadata": {},
   "outputs": [],
   "source": [
    "# make a scatter plot without 0 mm precip\n",
    "fig = plt.figure(figsize=(10,8)) \n",
    "plt.scatter(xdata,ydata,s=10,color='blue',label='Precipitation (mm)')\n",
    "plt.xlabel('Date', fontsize=14)                         \n",
    "plt.ylabel('Accumulated Precipitation (mm)', fontsize=14)\n",
    "plt.xticks(fontsize=12)                                 \n",
    "plt.yticks(fontsize=12)\n",
    "plt.title('Amount of Precipitation in 2019', fontsize=18)\n",
    "plt.legend()\n",
    "plt.show()"
   ]
  },
  {
   "cell_type": "markdown",
   "metadata": {},
   "source": [
    "What is that error telling us? At the bottom it says \"<font color=red>ValueError</font>: x and y must be the same size.\" And at the top, there is a green arrow pointing at the plt.scatter line of code. This means that in the scatter code, the xdata and the ydata are not the same length. Why not?\n",
    "\n",
    "**Knowledge Check** Why do you think the xdata and ydata are not the same length? They were the same length when we did the first scatter plot. How did we modify the data? Come up with a hypothesis before moving on to the next cell."
   ]
  },
  {
   "cell_type": "code",
   "execution_count": null,
   "metadata": {},
   "outputs": [],
   "source": [
    "# use the .where command to replace values of precip that are not greater than 0\n",
    "# the format of this command is .where(condition,replace_value). If condition is false, the replace_value is used\n",
    "ydata = df_var[var].where(df_var[var]>0.0,np.nan)\n",
    "\n",
    "# now let's check lengths of data!\n",
    "print(len(ydata))\n",
    "print(len(xdata))"
   ]
  },
  {
   "cell_type": "markdown",
   "metadata": {},
   "source": [
    "What did we do differently? Well, the first time, we **dropped** all the 0.0 mm values from the DataFrame. This meant that the DataFrame got shorter, so the length of xdata and ydata were different. In the second instance, we **replaced** all 0.0 mm values with np.nan. This preserved the length of the DataFrame. "
   ]
  },
  {
   "cell_type": "markdown",
   "metadata": {},
   "source": [
    "Excellent! Let's plot!"
   ]
  },
  {
   "cell_type": "code",
   "execution_count": null,
   "metadata": {},
   "outputs": [],
   "source": [
    "# make a scatter plot without 0 mm precip\n",
    "fig = plt.figure(figsize=(10,8)) \n",
    "plt.scatter(xdata,ydata,s=10,color='blue',label='Precipitation (mm)')\n",
    "plt.xlabel('Date', fontsize=14)                         \n",
    "plt.ylabel('Accumulated Precipitation (mm)', fontsize=14)\n",
    "plt.xticks(fontsize=12)                                 \n",
    "plt.yticks(fontsize=12)\n",
    "plt.title('Amount of Precipitation in 2019', fontsize=18)\n",
    "plt.legend()\n",
    "plt.show()"
   ]
  },
  {
   "cell_type": "markdown",
   "metadata": {},
   "source": [
    "Awesome! This figure looks good. We can definitely learn some stuff from this plot, like that precipitation is higher in the summer (07 to 09). Does this make sense for Madison, WI?"
   ]
  },
  {
   "cell_type": "markdown",
   "metadata": {},
   "source": [
    "### Exercises\n",
    "\n",
    "Now lets do some practice! Practice makes perfect, right? Please try your best first, but if you get stucked, scroll down and find some help."
   ]
  },
  {
   "cell_type": "markdown",
   "metadata": {},
   "source": [
    "<b>Exercise 1: Plot at least two variables on the same figure using .plot for one and .scatter for the other. Change the colors, markers, and linestyles and add a legend to the figure. "
   ]
  },
  {
   "cell_type": "code",
   "execution_count": null,
   "metadata": {},
   "outputs": [],
   "source": []
  },
  {
   "cell_type": "markdown",
   "metadata": {},
   "source": [
    "<b>Exercise 2: We have already looked at the weather data on an hourly basis, can you compare two variables on monthly basis? \n",
    "    \n",
    "* Hint: use .groupby() to get daily.monthly data"
   ]
  },
  {
   "cell_type": "code",
   "execution_count": null,
   "metadata": {},
   "outputs": [],
   "source": []
  },
  {
   "cell_type": "markdown",
   "metadata": {},
   "source": [
    "<b>Exercise 3: What is the diurnal pattern of the summer temperature? When does the highest daily temperature occur in summer?\n",
    "* Hint: diurnal means daily. So you want to find the average daily pattern of temperature. What does temp look like, on average, at 1 am, 2 am, 3 am, etc.?"
   ]
  },
  {
   "cell_type": "code",
   "execution_count": null,
   "metadata": {},
   "outputs": [],
   "source": []
  },
  {
   "cell_type": "markdown",
   "metadata": {},
   "source": [
    "### Possible Solutions"
   ]
  },
  {
   "cell_type": "markdown",
   "metadata": {},
   "source": [
    "#### Exercise 1:"
   ]
  },
  {
   "cell_type": "code",
   "execution_count": null,
   "metadata": {},
   "outputs": [],
   "source": [
    "var1 = 'windspeed_ms'\n",
    "var2 = 'slp_hpa'\n",
    "df1 = df.dropna(axis='index',subset=[var1,var2])   # you can drop NaNs on more than one column at a time!\n",
    "df1"
   ]
  },
  {
   "cell_type": "code",
   "execution_count": null,
   "metadata": {},
   "outputs": [],
   "source": [
    "xdata = df1['datetime']\n",
    "ydata1 = df1[var1]\n",
    "ydata2 = df1[var2]"
   ]
  },
  {
   "cell_type": "code",
   "execution_count": null,
   "metadata": {},
   "outputs": [],
   "source": [
    "# just checking . . . \n",
    "fig = plt.figure(figsize=(10,8))\n",
    "plt.plot(xdata,ydata2,color='red')\n",
    "plt.scatter(xdata,ydata1,color='blue')\n",
    "plt.show()"
   ]
  },
  {
   "cell_type": "markdown",
   "metadata": {},
   "source": [
    "Doesn't look great. Let's rescale the pressure data. And remove all the 0.0 m/s wind speed data."
   ]
  },
  {
   "cell_type": "code",
   "execution_count": null,
   "metadata": {},
   "outputs": [],
   "source": [
    "ydata2_mean = ydata2.mean()\n",
    "ydata2_rescale = ydata2 - ydata2_mean\n",
    "ydata1_nozeros = df1[var1].where(df1[var1]>0.0,np.nan)"
   ]
  },
  {
   "cell_type": "code",
   "execution_count": null,
   "metadata": {},
   "outputs": [],
   "source": [
    "fig = plt.figure(figsize=(10,8))\n",
    "plt.plot(xdata,ydata2_rescale,color='red')\n",
    "plt.scatter(xdata,ydata1_nozeros,color='blue',s=10,marker='+')\n",
    "plt.show()"
   ]
  },
  {
   "cell_type": "markdown",
   "metadata": {},
   "source": [
    "**Note:** This figure is not presentation-quality. There are no labels and the y-axis corresponds to two different units. However, as an exercise, it's fine to explore plotting different types of data."
   ]
  },
  {
   "cell_type": "markdown",
   "metadata": {},
   "source": [
    "<b>Exercise 2: "
   ]
  },
  {
   "cell_type": "code",
   "execution_count": null,
   "metadata": {},
   "outputs": [],
   "source": [
    "# get monthly temperature and dew point using .groupby()\n",
    "month_data = df_var.groupby(by=df_var.month).mean()"
   ]
  },
  {
   "cell_type": "code",
   "execution_count": null,
   "metadata": {},
   "outputs": [],
   "source": [
    "# since we are plotting monthly data, xdata would be the 12 months\n",
    "xdata = np.arange(12) # range from 0 to 11\n",
    "ydata1 = month_data['airtemp_degc']\n",
    "ydata2 = month_data['dewpoint_degc']"
   ]
  },
  {
   "cell_type": "code",
   "execution_count": null,
   "metadata": {},
   "outputs": [],
   "source": [
    "# try calendar.month_name[i] command if you do not want to type names of the months\n",
    "# calendar.month_abbr gives you the abbreviations\n",
    "months = calendar.month_abbr[1:13]\n",
    "months"
   ]
  },
  {
   "cell_type": "code",
   "execution_count": null,
   "metadata": {},
   "outputs": [],
   "source": [
    "fig = plt.figure(figsize=(10,8)) \n",
    "plt.plot(xdata,ydata1,color='red',label='Temperature (˚C)')         # plot the temperature data in red\n",
    "plt.plot(xdata,ydata2,color='blue',label='Dewpoint (˚C)')           # plot the dewpoint data in blue                        \n",
    "plt.ylabel('Temperature (˚C)', fontsize=14)\n",
    "plt.xticks(xdata,months,fontsize=12)                                # set tick labels as month name            \n",
    "plt.yticks(fontsize=12)\n",
    "plt.title('Monthly Temperature and Dewpoint in 2019', fontsize=18)\n",
    "plt.legend()                                                        # put a legend in the figure\n",
    "plt.show()"
   ]
  },
  {
   "cell_type": "markdown",
   "metadata": {},
   "source": [
    "<b>Exercise 3: "
   ]
  },
  {
   "cell_type": "code",
   "execution_count": null,
   "metadata": {},
   "outputs": [],
   "source": [
    "# first step, let's select temperatures for summer.\n",
    "df_var1 = df_var.set_index(\"datetime\")                        \n",
    "summer_temp = df_var1.loc['2019-06-01':'2019-08-31']\n",
    "\n",
    "# then, lets group data by hours to get diurnal pattern\n",
    "summer_temp2 = summer_temp.groupby(by=summer_temp.index.hour).mean()\n",
    "\n",
    "# get hourly temperatures averaged over summer \n",
    "diurnal_summer_temp = summer_temp2['airtemp_degc']"
   ]
  },
  {
   "cell_type": "code",
   "execution_count": null,
   "metadata": {},
   "outputs": [],
   "source": [
    "summer_temp2"
   ]
  },
  {
   "cell_type": "code",
   "execution_count": null,
   "metadata": {},
   "outputs": [],
   "source": [
    "# we want our x data to be the hour, so we can just select the index\n",
    "xdata = summer_temp2.index.values"
   ]
  },
  {
   "cell_type": "code",
   "execution_count": null,
   "metadata": {},
   "outputs": [],
   "source": [
    "fig = plt.figure(figsize=(10,8)) \n",
    "plt.plot(diurnal_summer_temp,color='red',label='Temperature (˚C)')         # plot the temperature data in red\n",
    "plt.ylabel('Temperature (˚C)', fontsize=14)\n",
    "plt.xlabel('Hour',fontsize=14)\n",
    "plt.xticks(xdata,fontsize=12)  \n",
    "plt.yticks(fontsize=12)\n",
    "plt.title('Diurnal pattern of Summer Temperature in 2019', fontsize=18)\n",
    "plt.show()"
   ]
  },
  {
   "cell_type": "markdown",
   "metadata": {},
   "source": [
    "Weird, why is the temperature coldest at 11 am? Wait, feel familiar with this issue? \n",
    "Yes! This has happened in tutorial 2! We know why! The time is in UTC! We could fix that by making the DatetimeIndex time-zone aware and then converting the time zone. "
   ]
  },
  {
   "cell_type": "code",
   "execution_count": null,
   "metadata": {},
   "outputs": [],
   "source": [
    "df_localized = df_var1.tz_localize(tz='UTC') # make the DataFrame time-zone aware\n",
    "df_new = df_localized.tz_convert(tz='US/Central') # convert from UTC to Central time"
   ]
  },
  {
   "cell_type": "code",
   "execution_count": null,
   "metadata": {},
   "outputs": [],
   "source": [
    "# redo the averging calculations for the new time-zone aware data\n",
    "summer_temp_new = df_new.loc['2019-06-01':'2019-08-31']\n",
    "summer_temp_new2 = summer_temp_new.groupby(by=summer_temp_new.index.hour).mean()\n",
    "diurnal_summer_temp2 = summer_temp_new2['airtemp_degc']\n",
    "xdata = summer_temp_new2.index.values"
   ]
  },
  {
   "cell_type": "code",
   "execution_count": null,
   "metadata": {},
   "outputs": [],
   "source": [
    "# find the time when maximum temperature occurs during summer; np.where() is a useful command here\n",
    "time_of_maxtemp = np.where(diurnal_summer_temp2 == diurnal_summer_temp2.max())[0][0]\n",
    "\n",
    "print(\"Maximum temperature usually occurs at %.i:00 during summer\" %time_of_maxtemp)"
   ]
  },
  {
   "cell_type": "code",
   "execution_count": null,
   "metadata": {},
   "outputs": [],
   "source": [
    "# plot the figure and add a marker for the max temperature\n",
    "fig = plt.figure(figsize=(10,8)) \n",
    "plt.plot(diurnal_summer_temp2,color='red',label='Temperature (˚C)')         # plot the temperature data in red\n",
    "plt.scatter(time_of_maxtemp,diurnal_summer_temp2.max(),color='k',marker=\"*\",s=200,label='Max Temp')\n",
    "plt.ylabel('Temperature (˚C)', fontsize=14)\n",
    "plt.xticks(xdata,fontsize=12)                                # set thick label as month name            \n",
    "plt.yticks(fontsize=12)\n",
    "plt.title('Diurnal pattern of Summer Temperature in 2019', fontsize=18)   \n",
    "plt.legend()\n",
    "plt.show()"
   ]
  },
  {
   "cell_type": "code",
   "execution_count": null,
   "metadata": {},
   "outputs": [],
   "source": []
  }
 ],
 "metadata": {
  "kernelspec": {
   "display_name": "Python 3 (ipykernel)",
   "language": "python",
   "name": "python3"
  },
  "language_info": {
   "codemirror_mode": {
    "name": "ipython",
    "version": 3
   },
   "file_extension": ".py",
   "mimetype": "text/x-python",
   "name": "python",
   "nbconvert_exporter": "python",
   "pygments_lexer": "ipython3",
   "version": "3.9.7"
  }
 },
 "nbformat": 4,
 "nbformat_minor": 4
}
